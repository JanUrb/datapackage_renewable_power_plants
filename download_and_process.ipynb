{
 "cells": [
  {
   "cell_type": "markdown",
   "metadata": {
    "collapsed": true
   },
   "source": [
    "\n",
    "\n",
    "# Open Power System Data: Renewable power plants\n",
    "\n",
    "\n",
    "## Part 1: Download and processing of the original data\n",
    "\n",
    "This script downlads and extracts the original data of renewable power plant lists from the data sources, processes and merges them. It subsequently adds the geolocation for each power plant and gives an overview over the structure of the DataFrame. Finally it saves the DataFrame."
   ]
  },
  {
   "cell_type": "markdown",
   "metadata": {},
   "source": [
    "# Table of contents \n",
    "\n",
    "* [1. Script setup](#1.-Script-setup)\n",
    "* [2. Settings](#2.-Settings)\n",
    "    * [2.1 Choose download option](#2.1-Choose-download-option)\n",
    "    * [2.2 Download function](#2.2-Download-function)\n",
    "    * [2.3 Setup translation dictionaries](#2.3-Setup-translation-dictionaries)\n",
    "* [3. Download and process per country](#3.-Download-and-process-per-country)\n",
    "    * [3.1 Germany DE](#3.1-Germany-DE)\n",
    "        * [3.1.1 Download and read](#3.1.1-Download-and-read)\n",
    "        * [3.1.2 Translate column names](#3.1.2-Translate-column-names)\n",
    "        * [3.1.3 Add information and choose columns](#3.1.3-Add-information-and-choose-columns)\n",
    "        * [3.1.4 Merge DataFrames](#3.1.4-Merge-DataFrames)\n",
    "        * [3.1.5 Translate values and harmonize energy source](#3.1.5-Translate-values-and-harmonize-energy-source)\n",
    "        * [3.1.6 Georeferencing](#3.1.6-Georeferencing)\n",
    "        * [3.1.7 Save](#3.1.7-Save)\n",
    "    * [3.2 Denmark DK](#3.2-Denmark-DK)\n",
    "        * [3.2.1 Download and read](#3.2.1-Download-and-read)\n",
    "        * [3.2.2 Translate column names](#3.2.2-Translate-column-names)\n",
    "        * [3.2.3 Add data source and missing information](#3.2.3-Add-data-source-and-missing-information)\n",
    "        * [3.2.4 Translate values and harmonize energy source](#3.2.4-Translate-values-and-harmonize-energy-source)\n",
    "        * [3.2.5 Georeferencing](#3.1.5-Georeferencing)\n",
    "        * [3.2.6 Merge DataFrames and choose columns](#3.2.6-Merge-DataFrames-and-choose-columns)        \n",
    "        * [3.2.7 Save](#3.1.7-Save)\n",
    "    * [3.3 France FR](#3.3-France-FR)\n",
    "        * [3.3.1 Download and read](#3.3.1-Download-and-read)\n",
    "        * [3.3.2 Rearrange columns and translate column names](#3.3.2-Rearragne-columns-and-translate-column-names)\n",
    "        * [3.3.3 Add data source](#3.3.3-Add-data-source)\n",
    "        * [3.3.4 Translate values and harmonize energy source](#3.3.4-Translate-values-and-harmonize-energy-source)\n",
    "        * [3.3.5 Transform MW to kW](#3.3.5-Transform-MW-to-kW)\n",
    "        * [3.3.6 Georeferencing](#3.3.6-Georeferencing)\n",
    "        * [3.3.7 Save](#3.3.7-Save)\n",
    "    * [3.4 Poland PL](#3.4-Poland-PL)\n",
    "        * [3.4.1 Download and read](#3.4.1-Download-and-read)\n",
    "        * [3.4.2 Rearrange data from rtf-file](#3.4.2-Rearrange-data-from-rtf-file)\n",
    "        * [3.4.3 Add data source](#3.4.3-Add-data-source)\n",
    "        * [3.4.4 Translate values and harmonize energy source](#3.4.4-Translate-values-and-harmonize-energy-source)\n",
    "        * [3.4.5 Transform MW to kW](#3.4.5-Transform-MW-to-kW)\n",
    "        * [3.4.6 Georeferencing (missing)](#3.4.6-Georeferencing-(missing)\n",
    "        * [3.4.7 Save](#3.4.7-Save)\n",
    "* [Part 2: Validation and output](validation_and_output.ipynb)\n"
   ]
  },
  {
   "cell_type": "markdown",
   "metadata": {},
   "source": [
    "# 1. Script setup"
   ]
  },
  {
   "cell_type": "code",
   "execution_count": 44,
   "metadata": {
    "collapsed": false,
    "scrolled": true
   },
   "outputs": [],
   "source": [
    "# importing all necessary Python libraries for this Script\n",
    "\n",
    "from collections import OrderedDict\n",
    "import io\n",
    "import json\n",
    "import os\n",
    "import subprocess\n",
    "import zipfile\n",
    "import posixpath\n",
    "import urllib.parse\n",
    "import urllib.request\n",
    "import numpy as np\n",
    "import pandas as pd\n",
    "import requests \n",
    "import sqlite3 \n",
    "import logging\n",
    "import getpass\n",
    "import utm # for transforming geoinformation in the utm-format\n",
    "import re # provides regular expression matching operations\n",
    "\n",
    "# Starting from ipython 4.3.0 logging is not directing its ouput to the out cell. It might be operating system related but \n",
    "# until the issue is fixed, we are going to use print(). \n",
    "# Issue on GitHub: https://github.com/ipython/ipykernel/issues/111\n",
    "\n",
    "# Set up a log \n",
    "logging.basicConfig(handlers=[logging.StreamHandler()])\n",
    "logger = logging.getLogger('notebook')\n",
    "logger.setLevel('INFO')\n",
    "nb_root_logger = logging.getLogger()\n",
    "formatter = logging.Formatter('%(asctime)s - %(name)s - %(levelname)s'\\\n",
    "                              '- %(message)s',datefmt='%d %b %Y %H:%M:%S')\n",
    "\n",
    "# Create input and output folders if they don't exist\n",
    "os.makedirs('input/original_data', exist_ok=True)\n",
    "os.makedirs('output', exist_ok=True)\n",
    "os.makedirs('output/renewable_power_plants', exist_ok=True)"
   ]
  },
  {
   "cell_type": "markdown",
   "metadata": {},
   "source": [
    "# 2. Settings"
   ]
  },
  {
   "cell_type": "markdown",
   "metadata": {},
   "source": [
    "## 2.1 Choose download option\n",
    "The original data can either be downloaded from the original data sources as specified below or from the opsd-Server. Default option is to download from the original sources as the aim of the project is to stay as close to original sources as possible. However, if problems with downloads e.g. due to changing urls occur, you can still run the script with the original data from the opsd_server."
   ]
  },
  {
   "cell_type": "code",
   "execution_count": 45,
   "metadata": {
    "collapsed": true
   },
   "outputs": [],
   "source": [
    "# download_from = 'original_sources'\n",
    "download_from = 'opsd_server' "
   ]
  },
  {
   "cell_type": "code",
   "execution_count": 46,
   "metadata": {
    "collapsed": false
   },
   "outputs": [
    {
     "name": "stdout",
     "output_type": "stream",
     "text": [
      "Please enter the beta user password:········\n"
     ]
    }
   ],
   "source": [
    "if download_from == 'opsd_server':\n",
    "\n",
    "# While OPSD is in beta, we need to supply authentication\n",
    "    password = getpass.getpass('Please enter the beta user password:')\n",
    "    session = requests.session()\n",
    "    session.auth = ('beta', password) \n",
    "\n",
    "# Specify direction to original_data folder on the opsd data server\n",
    "    url_opsd = 'http://data.open-power-system-data.org/renewable_power_plants/'\n",
    "    version = '2016-08-25'\n",
    "    folder = '/original_data'"
   ]
  },
  {
   "cell_type": "markdown",
   "metadata": {},
   "source": [
    "## 2.2 Download function"
   ]
  },
  {
   "cell_type": "code",
   "execution_count": 47,
   "metadata": {
    "collapsed": false
   },
   "outputs": [],
   "source": [
    "def download_and_cache(url, session=None):\n",
    "    \"\"\"This function downloads a file into a folder called \n",
    "    original_data and returns the local filepath.\"\"\"\n",
    "    path = urllib.parse.urlsplit(url).path\n",
    "    filename = posixpath.basename(path)\n",
    "    filepath = \"input/original_data/\" + filename\n",
    "    print(url)\n",
    "\n",
    "    # check if file exists, if not download it\n",
    "    filepath = \"input/original_data/\" + filename\n",
    "    print(filepath)\n",
    "    if not os.path.exists(filepath):\n",
    "        if not session:\n",
    "            print('No session')\n",
    "            session = requests.session()\n",
    "        \n",
    "        print(\"Downloading file: \", filename)\n",
    "        r = session.get(url, stream=True)\n",
    "\n",
    "        chuncksize = 1024\n",
    "        with open(filepath, 'wb') as file:\n",
    "            for chunck in r.iter_content(chuncksize):\n",
    "                file.write(chunck)\n",
    "    else:\n",
    "        print(\"Using local file from\", filepath)\n",
    "    filepath = '' + filepath\n",
    "    return filepath"
   ]
  },
  {
   "cell_type": "markdown",
   "metadata": {},
   "source": [
    "## 2.3 Setup translation dictionaries\n",
    "\n",
    "Column and value names of the original data sources will be translated to English and standardized across different sources. Standardized column names, e.g. \"electrical_capacity\" are required to merge data in one DataFrame.<br>\n",
    "The column and the value translation lists are provided in the input folder of the Data Package."
   ]
  },
  {
   "cell_type": "code",
   "execution_count": 48,
   "metadata": {
    "collapsed": false
   },
   "outputs": [],
   "source": [
    "# Get column translation list\n",
    "columnnames = pd.read_csv('input/column_translation_list.csv')"
   ]
  },
  {
   "cell_type": "code",
   "execution_count": 49,
   "metadata": {
    "collapsed": false
   },
   "outputs": [],
   "source": [
    "# Get value translation list\n",
    "valuenames = pd.read_csv('input/value_translation_list.csv')"
   ]
  },
  {
   "cell_type": "markdown",
   "metadata": {},
   "source": [
    "# 3. Download and process per country\n",
    "\n",
    "For one country after the other, the original data is downloaded, read, processed, translated, eventually georeferenced and saved. If respective files are already in the local folder, these will be utilized.\n",
    "To process the provided data [pandas DataFrame](http://pandas.pydata.org/pandas-docs/stable/dsintro.html#dataframe) is applied.<br>"
   ]
  },
  {
   "cell_type": "markdown",
   "metadata": {},
   "source": [
    "## 3.1 Germany DE"
   ]
  },
  {
   "cell_type": "markdown",
   "metadata": {},
   "source": [
    "### 3.1.1 Download and read\n",
    "The data which will be processed below is provided by the following data sources:\n",
    "\n",
    "**[Netztransparenz.de](https://www.netztransparenz.de/de/Anlagenstammdaten.htm)** - Official grid transparency platform from the German TSOs (50Hertz, Amprion, TenneT and TransnetBW).\n",
    "\n",
    "**Bundesnetzagentur (BNetzA)** - German Federal Network Agency for Electricity, Gas, Telecommunications, Posts and Railway (Data for [roof-mounted PV power plants](http://www.bundesnetzagentur.de/cln_1422/DE/Sachgebiete/ElektrizitaetundGas/Unternehmen_Institutionen/ErneuerbareEnergien/Photovoltaik/DatenMeldgn_EEG-VergSaetze/DatenMeldgn_EEG-VergSaetze_node.html) and for [all other renewable energy power plants](http://www.bundesnetzagentur.de/cln_1412/DE/Sachgebiete/ElektrizitaetundGas/Unternehmen_Institutionen/ErneuerbareEnergien/Anlagenregister/Anlagenregister_Veroeffentlichung/Anlagenregister_Veroeffentlichungen_node.html))"
   ]
  },
  {
   "cell_type": "code",
   "execution_count": 50,
   "metadata": {
    "collapsed": false
   },
   "outputs": [
    {
     "name": "stdout",
     "output_type": "stream",
     "text": [
      "http://data.open-power-system-data.org/renewable_power_plants/2016-08-25/original_data/Netztransparenz/Anlagenstammdaten_2015_final.zip\n"
     ]
    }
   ],
   "source": [
    "# point URLs to original data depending on the chosen download option\n",
    "if download_from == 'original_sources':\n",
    "     \n",
    "    url_netztransparenz ='https://www.netztransparenz.de/de/file/Anlagenstammdaten_2015_final.zip'  \n",
    "    url_bnetza ='http://www.bundesnetzagentur.de/SharedDocs/Downloads/DE/Sachgebiete/Energie/Unternehmen_Institutionen/ErneuerbareEnergien/Anlagenregister/VOeFF_Anlagenregister/2016_06_Veroeff_AnlReg.xls?__blob=publicationFile&v=1'\n",
    "    url_bnetza_pv = 'https://www.bundesnetzagentur.de/SharedDocs/Downloads/DE/Sachgebiete/Energie/Unternehmen_Institutionen/ErneuerbareEnergien/Photovoltaik/Datenmeldungen/Meldungen_Aug-Mai2016.xls?__blob=publicationFile&v=2'\n",
    "    \n",
    "else:\n",
    "    url_netztransparenz = (url_opsd + version + folder + '/Netztransparenz/' + 'Anlagenstammdaten_2015_final.zip')\n",
    "    print(url_netztransparenz)\n",
    "    url_bnetza = (url_opsd + version + folder + '/BNetzA/' + '2016_06_Veroeff_AnlReg.xls')\n",
    "    url_bnetza_pv = (url_opsd + version + folder + '/BNetzA/' + 'Meldungen_Aug-Mai2016.xls')\n"
   ]
  },
  {
   "cell_type": "code",
   "execution_count": 51,
   "metadata": {
    "collapsed": false
   },
   "outputs": [
    {
     "name": "stdout",
     "output_type": "stream",
     "text": [
      "http://data.open-power-system-data.org/renewable_power_plants/2016-08-25/original_data/Netztransparenz/Anlagenstammdaten_2015_final.zip\n",
      "input/original_data/Anlagenstammdaten_2015_final.zip\n",
      "Using local file from input/original_data/Anlagenstammdaten_2015_final.zip\n",
      "Wall time: 1 ms\n",
      "http://data.open-power-system-data.org/renewable_power_plants/2016-08-25/original_data/BNetzA/2016_06_Veroeff_AnlReg.xls\n",
      "input/original_data/2016_06_Veroeff_AnlReg.xls\n",
      "Using local file from input/original_data/2016_06_Veroeff_AnlReg.xls\n",
      "Wall time: 0 ns\n",
      "http://data.open-power-system-data.org/renewable_power_plants/2016-08-25/original_data/BNetzA/Meldungen_Aug-Mai2016.xls\n",
      "input/original_data/Meldungen_Aug-Mai2016.xls\n",
      "Using local file from input/original_data/Meldungen_Aug-Mai2016.xls\n",
      "Wall time: 0 ns\n"
     ]
    }
   ],
   "source": [
    "# Download all data sets before processing.\n",
    "if download_from == 'original_sources':\n",
    "    \n",
    "    netztransparenz_zip = %time zipfile.ZipFile(download_and_cache(url_netztransparenz))\n",
    "    bnetza_xls = %time download_and_cache(url_bnetza)\n",
    "    bnetza_pv_xls = %time download_and_cache(url_bnetza_pv)\n",
    "\n",
    "else:\n",
    "    # Check if the user is offline\n",
    "    # if offline, do not give a session as parameter.\n",
    "    try:\n",
    "        r = session.get('http://data.open-power-system-data.org/renewables_power_plants/')\n",
    "    except requests.ConnectionError:\n",
    "        logger.warning('The user is offline. Proceeding with the script!')\n",
    "        \n",
    "        \n",
    "    try:     \n",
    "        netztransparenz_zip = %time zipfile.ZipFile(download_and_cache(url_netztransparenz, session))\n",
    "        bnetza_xls = %time download_and_cache(url_bnetza, session)\n",
    "        bnetza_pv_xls = %time download_and_cache(url_bnetza_pv, session)\n",
    "    except zipfile.BadZipFile:\n",
    "        raise FileNotFoundError('One of the Zip File is corrupted! Delete them \\\n",
    "                                 Also, check your opsd password!')\n"
   ]
  },
  {
   "cell_type": "code",
   "execution_count": 52,
   "metadata": {
    "collapsed": false
   },
   "outputs": [
    {
     "name": "stdout",
     "output_type": "stream",
     "text": [
      "Reading Amprion_Anlagenstammdaten_2015.csv\n",
      "Reading 50Hertz_Anlagenstammdaten_2015.csv\n",
      "Reading TenneT_Anlagenstammdaten_2015.csv\n",
      "Reading TransnetBW_Anlagenstammdaten_2015.csv\n"
     ]
    }
   ],
   "source": [
    "# Read TSO data from zip file\n",
    "print('Reading Amprion_Anlagenstammdaten_2015.csv')\n",
    "amprion_df = pd.read_csv(netztransparenz_zip.open('Amprion_Anlagenstammdaten_2015.csv'),\n",
    "                         sep=';',\n",
    "                         thousands='.',\n",
    "                         decimal=',',\n",
    "                         header=0,\n",
    "                         parse_dates=[11, 12, 13, 14],\n",
    "                         encoding='cp1252',\n",
    "                         dayfirst=True)\n",
    "\n",
    "print('Reading 50Hertz_Anlagenstammdaten_2015.csv')\n",
    "hertz_df = pd.read_csv(netztransparenz_zip.open('50Hertz_Anlagenstammdaten_2015.csv'),\n",
    "                       sep=';',\n",
    "                       thousands='.',\n",
    "                       decimal=',',\n",
    "                       header=0,\n",
    "                       parse_dates=[11, 12, 13, 14],\n",
    "                       encoding='cp1252',\n",
    "                       dayfirst=True)\n",
    "\n",
    "print('Reading TenneT_Anlagenstammdaten_2015.csv')\n",
    "tennet_df = pd.read_csv(netztransparenz_zip.open('TenneT_Anlagenstammdaten_2015.csv'),\n",
    "                        sep=';',\n",
    "                        thousands='.',\n",
    "                        decimal=',',\n",
    "                        header=0,\n",
    "                        parse_dates=[11, 12, 13, 14],\n",
    "                        encoding='cp1252',\n",
    "                        dayfirst=True)\n",
    "\n",
    "print('Reading TransnetBW_Anlagenstammdaten_2015.csv')\n",
    "transnetbw_df = pd.read_csv(netztransparenz_zip.open('TransnetBW_Anlagenstammdaten_2015.csv'),\n",
    "                            sep=';',\n",
    "                            thousands='.',\n",
    "                            decimal=',',\n",
    "                            header=0,\n",
    "                            parse_dates=[11, 12, 13, 14],\n",
    "                            encoding='cp1252',\n",
    "                            dayfirst=True,\n",
    "                            low_memory=False)"
   ]
  },
  {
   "cell_type": "code",
   "execution_count": 53,
   "metadata": {
    "collapsed": false
   },
   "outputs": [
    {
     "name": "stdout",
     "output_type": "stream",
     "text": [
      "Reading bnetza - 2016_06_Veroeff_AnlReg.xls\n",
      "Reading bnetza_pv - Meldungen_Aug-Mai2016.xls\n",
      "Concatenating bnetza_pv\n"
     ]
    }
   ],
   "source": [
    "# Read BNetzA register\n",
    "print('Reading bnetza - 2016_06_Veroeff_AnlReg.xls')\n",
    "bnetza_df = pd.read_excel(bnetza_xls,\n",
    "                          sheetname='Gesamtübersicht',\n",
    "                          header=0,\n",
    "                          converters={'4.9 Postleit-zahl': str,\n",
    "                                      'Gemeinde-Schlüssel': str})\n",
    "\n",
    "# Read BNetzA-PV register\n",
    "print('Reading bnetza_pv - Meldungen_Aug-Mai2016.xls')\n",
    "bnetza_pv = pd.ExcelFile(bnetza_pv_xls)\n",
    "\n",
    "# Combine all PV BNetzA sheets into one DataFrame\n",
    "print('Concatenating bnetza_pv')\n",
    "bnetza_pv_df = pd.concat(bnetza_pv.parse(sheet, skiprows=10,\n",
    "                                         converters={'Anlage \\nPLZ': str}\n",
    "                                         ) for sheet in bnetza_pv.sheet_names)\n",
    "\n",
    "# Drop not needed NULL \"Unnamed:\" column\n",
    "bnetza_pv_df = bnetza_pv_df.drop(bnetza_pv_df.columns[[7]], axis=1)"
   ]
  },
  {
   "cell_type": "markdown",
   "metadata": {},
   "source": [
    "### 3.1.2 Translate column names\n",
    "To standardise the DataFrame the original column names from the German TSOs and the BNetzA wil be translated and new english column names wil be assigned to the DataFrame. The unique column names are required to merge the DataFrame.<br>\n",
    "The column_translation_list is provided here as csv in the input folder. It is loaded in _2.3 Setup of translation dictionaries_."
   ]
  },
  {
   "cell_type": "code",
   "execution_count": 54,
   "metadata": {
    "collapsed": false
   },
   "outputs": [
    {
     "data": {
      "text/plain": [
       "{'1.8 EEG-Anlagenschlüssel': 'eeg_id',\n",
       " '4.1 Energieträger': 'energy_source',\n",
       " '4.10 Ort bzw. Gemarkung': 'municipality',\n",
       " '4.11 Bundesland': 'federal_state',\n",
       " '4.14 Spannungsebene': 'voltage_level',\n",
       " '4.16 Name des Netzbetreibers': 'dso',\n",
       " '4.2 Installierte Leistung [kW]': 'electrical_capacity_kW',\n",
       " '4.3 Tatsächliche Inbetrieb-nahme': 'commissioning_date',\n",
       " '4.5 Stilllegungs-datum': 'decommissioning_date',\n",
       " '4.7 Strasse bzw. Flurstück': 'address',\n",
       " '4.8 Haus-nummer': 'address_number',\n",
       " '4.9 Postleit-zahl': 'postcode',\n",
       " '6.2 Thermische Leistung [kW]': 'thermal_capacity_kW',\n",
       " 'Anlage \\nBundesland': 'federal_state',\n",
       " 'Anlage \\nOrt oder Gemarkung': 'municipality',\n",
       " 'Anlage \\nPLZ': 'postcode',\n",
       " 'Anlage \\nStraße oder Flurstück *)': 'address',\n",
       " 'Anlagennummer': 'bnetza_id',\n",
       " 'Außerbetriebnahme': 'decommissioning_date',\n",
       " 'Bundelsand': 'federal_state',\n",
       " 'Bundesland': 'federal_state',\n",
       " 'Einspeisespannungsebene': 'voltage_level',\n",
       " 'Energieträger': 'energy_source',\n",
       " 'Gemeinde-schlüssel': 'municipality_code',\n",
       " 'Inbetriebnahme': 'commissioning_date',\n",
       " 'Inbetriebnahmedatum **)': 'commissioning_date',\n",
       " 'Installierte \\nNennleistung [kWp]': 'electrical_capacity_kW',\n",
       " 'Installierte Leistung [kW]': 'electrical_capacity_kW',\n",
       " 'Leistungsmessung': 'power_measurement',\n",
       " 'Meldegrund': 'notification_reason',\n",
       " 'Meldungsdatum': 'notification_date',\n",
       " 'Netzabgang': 'grid_decommissioning_date',\n",
       " 'Netzbetreiber Betriebsnummer': 'dso_id',\n",
       " 'Netzbetreiber Name': 'dso',\n",
       " 'Netzzugang': 'grid_commissioning_date',\n",
       " 'PLZ': 'postcode',\n",
       " 'Regelbarkeit': 'controllability',\n",
       " 'UTM-East': 'utm_east',\n",
       " 'UTM-North': 'utm_north',\n",
       " 'UTM-Zonenwert': 'utm_zone',\n",
       " 'ÜNB': 'tso',\n",
       " 'ÜNB-Anlagenschlüssel': 'eeg_id'}"
      ]
     },
     "execution_count": 54,
     "metadata": {},
     "output_type": "execute_result"
    }
   ],
   "source": [
    "# Choose the translation terms for Germany, create dictionary and show dictionary\n",
    "idx_DE = columnnames[columnnames['country'] == 'DE'].index\n",
    "column_dict_DE = columnnames.loc[idx_DE].set_index('original_name')['opsd_name'].to_dict()\n",
    "column_dict_DE"
   ]
  },
  {
   "cell_type": "code",
   "execution_count": 55,
   "metadata": {
    "collapsed": false
   },
   "outputs": [
    {
     "name": "stdout",
     "output_type": "stream",
     "text": [
      "Translation\n"
     ]
    }
   ],
   "source": [
    "print('Translation')\n",
    "amprion_df.rename(columns=column_dict_DE, inplace=True)\n",
    "hertz_df.rename(columns=column_dict_DE, inplace=True)\n",
    "tennet_df.rename(columns=column_dict_DE, inplace=True)\n",
    "transnetbw_df.rename(columns=column_dict_DE, inplace=True)\n",
    "bnetza_df.rename(columns=column_dict_DE, inplace=True)\n",
    "bnetza_pv_df.rename(columns=column_dict_DE, inplace=True)"
   ]
  },
  {
   "cell_type": "markdown",
   "metadata": {
    "collapsed": false
   },
   "source": [
    "### 3.1.3 Add information and choose columns\n",
    "All data source names and (for the BNetzA-PV data) the energy source will is added."
   ]
  },
  {
   "cell_type": "code",
   "execution_count": 56,
   "metadata": {
    "collapsed": true
   },
   "outputs": [],
   "source": [
    "# Add data source names to the DataFrames\n",
    "transnetbw_df['data_source'] = 'TransnetBW'\n",
    "tennet_df['data_source'] = 'TenneT'\n",
    "amprion_df['data_source'] = 'Amprion'\n",
    "hertz_df['data_source'] = '50Hertz'\n",
    "bnetza_df['data_source'] = 'BNetzA'\n",
    "bnetza_pv_df['data_source'] = 'BNetzA_PV'\n",
    "\n",
    "# Add for the BNetzA PV data the energy source\n",
    "bnetza_pv_df['energy_source'] = 'Photovoltaics'\n",
    "\n",
    "# Correct datetime-format\n",
    "bnetza_df['decommissioning_date'] = pd.to_datetime(bnetza_df['decommissioning_date'])\n"
   ]
  },
  {
   "cell_type": "code",
   "execution_count": 57,
   "metadata": {
    "collapsed": false
   },
   "outputs": [],
   "source": [
    "# Just some of all the columns of this DataFrame are utilized further\n",
    "bnetza_df = bnetza_df.loc[:,('commissioning_date','decommissioning_date','notification_reason',\n",
    "                             'energy_source',\n",
    "                             'electrical_capacity_kW','thermal_capacity_kW',\n",
    "                             'voltage_level','dso','eeg_id','bnetza_id',\n",
    "                             'federal_state','postcode','municipality_code','municipality',\n",
    "                             'address','address_number',\n",
    "                             'utm_zone','utm_east','utm_north',\n",
    "                             'data_source')]\n",
    "bnetza_df.to_csv('test_123.csv')"
   ]
  },
  {
   "cell_type": "markdown",
   "metadata": {},
   "source": [
    "### 3.1.4 Merge DataFrames\n",
    "The individual DataFrames from the TSOs (Netztransparenz.de) and BNetzA are merged."
   ]
  },
  {
   "cell_type": "code",
   "execution_count": 58,
   "metadata": {
    "collapsed": false
   },
   "outputs": [],
   "source": [
    "dataframes = [transnetbw_df, tennet_df, amprion_df, hertz_df, bnetza_pv_df, bnetza_df]\n",
    "DE_renewables = pd.concat(dataframes)\n",
    "DE_renewables.reset_index(drop=True, inplace=True)"
   ]
  },
  {
   "cell_type": "markdown",
   "metadata": {},
   "source": [
    "**First look at DataFrame structure and format**"
   ]
  },
  {
   "cell_type": "code",
   "execution_count": 59,
   "metadata": {
    "collapsed": false,
    "scrolled": true
   },
   "outputs": [
    {
     "name": "stdout",
     "output_type": "stream",
     "text": [
      "<class 'pandas.core.frame.DataFrame'>\n",
      "RangeIndex: 1745311 entries, 0 to 1745310\n",
      "Data columns (total 27 columns):\n",
      "address                      object\n",
      "address_number               object\n",
      "bnetza_id                    object\n",
      "commissioning_date           datetime64[ns]\n",
      "controllability              object\n",
      "data_source                  object\n",
      "decommissioning_date         datetime64[ns]\n",
      "dso                          object\n",
      "dso_id                       object\n",
      "eeg_id                       object\n",
      "electrical_capacity_kW       float64\n",
      "energy_source                object\n",
      "federal_state                object\n",
      "grid_commissioning_date      datetime64[ns]\n",
      "grid_decommissioning_date    datetime64[ns]\n",
      "municipality                 object\n",
      "municipality_code            object\n",
      "notification_date            datetime64[ns]\n",
      "notification_reason          object\n",
      "postcode                     object\n",
      "power_measurement            object\n",
      "thermal_capacity_kW          float64\n",
      "tso                          object\n",
      "utm_east                     float64\n",
      "utm_north                    float64\n",
      "utm_zone                     float64\n",
      "voltage_level                object\n",
      "dtypes: datetime64[ns](5), float64(5), object(17)\n",
      "memory usage: 359.5+ MB\n"
     ]
    }
   ],
   "source": [
    "DE_renewables.info()"
   ]
  },
  {
   "cell_type": "markdown",
   "metadata": {},
   "source": [
    "### 3.1.5 Translate values and harmonize energy source\n",
    "Different German terms for energy source, energy source subtypes and voltage levels are translated and harmonized across the individual data sources. The value_translation_list is provided here as csv in the input folder. It is loaded in _2.3 Setup of translation dictionaries_."
   ]
  },
  {
   "cell_type": "code",
   "execution_count": 60,
   "metadata": {
    "collapsed": false
   },
   "outputs": [
    {
     "data": {
      "text/plain": [
       "{'Biomasse': 'Biomass and biogas',\n",
       " 'Deponiegas': 'Sewage and landfill gas',\n",
       " 'Freifläche PV': 'Photovoltaics ground',\n",
       " 'Geothermie': 'Geothermal',\n",
       " 'Grubengas': 'Other fossil fuels',\n",
       " 'HS': '03 (HS)',\n",
       " 'HS/MS': '04 (HS/MS)',\n",
       " 'HöS': '01 (HöS)',\n",
       " 'HöS/HS': '02 (HöS/HS)',\n",
       " 'Klärgas': 'Sewage and landfill gas',\n",
       " 'MS': '05 (MS)',\n",
       " 'MS/NS': '06 (MS/NS)',\n",
       " 'NS': '07 (NS)',\n",
       " 'Solar': 'Photovoltaics',\n",
       " 'Wasserkraft': 'Run-of-river',\n",
       " 'Wind Land': 'Onshore',\n",
       " 'Wind See': 'Offshore',\n",
       " 'Windenergie': 'Onshore',\n",
       " 'Windenergie Offshore': 'Offshore',\n",
       " 'Windenergie an Land': 'Onshore'}"
      ]
     },
     "execution_count": 60,
     "metadata": {},
     "output_type": "execute_result"
    }
   ],
   "source": [
    "# Choose the translation terms for Germany, create dictionary and show dictionary\n",
    "idx_DE = valuenames[valuenames['country'] == 'DE'].index\n",
    "value_dict_DE = valuenames.loc[idx_DE].set_index('original_name')['opsd_name'].to_dict()\n",
    "value_dict_DE"
   ]
  },
  {
   "cell_type": "code",
   "execution_count": 61,
   "metadata": {
    "collapsed": false
   },
   "outputs": [
    {
     "name": "stdout",
     "output_type": "stream",
     "text": [
      "replacing..\n",
      "Wall time: 3min 1s\n"
     ]
    }
   ],
   "source": [
    "print('replacing..')\n",
    "# Running time: some minutes. %time prints the time your computer required for this step\n",
    "%time DE_renewables.replace(value_dict_DE, inplace=True)"
   ]
  },
  {
   "cell_type": "markdown",
   "metadata": {},
   "source": [
    "**Separate and assign energy source and subtypes**"
   ]
  },
  {
   "cell_type": "code",
   "execution_count": 62,
   "metadata": {
    "collapsed": false
   },
   "outputs": [],
   "source": [
    "# Create dictionnary in order to assign energy_source to its subtype\n",
    "energy_source_dict_DE = valuenames.loc[idx_DE].set_index('opsd_name')['energy_source'].to_dict()\n",
    "\n",
    "# Column energy_source partly contains subtype information, thus this column is copied\n",
    "# to new column for energy_source_subtype...\n",
    "DE_renewables['energy_source_subtype'] = DE_renewables['energy_source']\n",
    "\n",
    "# ...and the energy source subtype values in the energy_source column are replaced by \n",
    "# the higher level classification\n",
    "DE_renewables['energy_source'].replace(energy_source_dict_DE, inplace=True)"
   ]
  },
  {
   "cell_type": "code",
   "execution_count": 63,
   "metadata": {
    "collapsed": false
   },
   "outputs": [
    {
     "data": {
      "text/plain": [
       "{'01 (HöS)': nan,\n",
       " '02 (HöS/HS)': nan,\n",
       " '03 (HS)': nan,\n",
       " '04 (HS/MS)': nan,\n",
       " '05 (MS)': nan,\n",
       " '06 (MS/NS)': nan,\n",
       " '07 (NS)': nan,\n",
       " 'Biomass and biogas': 'Bioenergy and renewable waste',\n",
       " 'Geothermal': 'Geothermal',\n",
       " 'Offshore': 'Wind',\n",
       " 'Onshore': 'Wind',\n",
       " 'Other fossil fuels': 'Other fossil fuels',\n",
       " 'Photovoltaics': 'Solar',\n",
       " 'Photovoltaics ground': 'Solar',\n",
       " 'Run-of-river': 'Hydro',\n",
       " 'Sewage and landfill gas': 'Bioenergy and renewable waste'}"
      ]
     },
     "execution_count": 63,
     "metadata": {},
     "output_type": "execute_result"
    }
   ],
   "source": [
    "energy_source_dict_DE"
   ]
  },
  {
   "cell_type": "markdown",
   "metadata": {},
   "source": [
    "**Summary of DataFrame**"
   ]
  },
  {
   "cell_type": "code",
   "execution_count": 64,
   "metadata": {
    "collapsed": false
   },
   "outputs": [
    {
     "data": {
      "text/plain": [
       "energy_source\n",
       "Bioenergy and renewable waste     8379.710774\n",
       "Geothermal                          42.735000\n",
       "Hydro                             1659.183409\n",
       "Other fossil fuels                 267.692000\n",
       "Solar                            41810.509508\n",
       "Wind                             61630.587473\n",
       "Name: electrical_capacity_kW, dtype: float64"
      ]
     },
     "execution_count": 64,
     "metadata": {},
     "output_type": "execute_result"
    }
   ],
   "source": [
    "# Electrical capacity per energy_source (in MW)\n",
    "DE_renewables.groupby(['energy_source'])['electrical_capacity_kW'].sum() / 1000"
   ]
  },
  {
   "cell_type": "code",
   "execution_count": 65,
   "metadata": {
    "collapsed": false
   },
   "outputs": [
    {
     "data": {
      "text/plain": [
       "energy_source_subtype\n",
       "Biomass and biogas          8060.635304\n",
       "Geothermal                    42.735000\n",
       "Offshore                    6698.914000\n",
       "Onshore                    54931.673473\n",
       "Other fossil fuels           267.692000\n",
       "Photovoltaics              41214.606282\n",
       "Photovoltaics ground         595.903226\n",
       "Run-of-river                1659.183409\n",
       "Sewage and landfill gas      319.075470\n",
       "Name: electrical_capacity_kW, dtype: float64"
      ]
     },
     "execution_count": 65,
     "metadata": {},
     "output_type": "execute_result"
    }
   ],
   "source": [
    "# Electrical capacity per energy_source_subtype (in MW)\n",
    "DE_renewables.groupby(['energy_source_subtype'])['electrical_capacity_kW'].sum() / 1000"
   ]
  },
  {
   "cell_type": "markdown",
   "metadata": {},
   "source": [
    "### 3.1.6 Georeferencing"
   ]
  },
  {
   "cell_type": "markdown",
   "metadata": {},
   "source": [
    "#### Get coordinates by postcode\n",
    "*(for data with no existing geocoordinates)*\n",
    "\n",
    "The available post code in the original data provides a first approximation for the geocoordinates of the RE power plants.<br>\n",
    "The BNetzA data provides the full zip code whereas due to data privacy the TSOs only report the first three digits of the power plant's post code (e.g. 024xx) and no address. Subsequently a centroid of the post code region polygon is used to find the coordinates.\n",
    "\n",
    "With data from\n",
    "*  http://www.suche-postleitzahl.org/downloads?download=plz-gebiete.shp.zip\n",
    "*  http://www.suche-postleitzahl.org/downloads?download_file=plz-3stellig.shp.zip\n",
    "*  http://www.suche-postleitzahl.org/downloads\n",
    "\n",
    "a CSV-file for all existing German post codes with matching geocoordinates has been compiled. The latitude and longitude coordinates were generated by running a PostgreSQL + PostGIS database. Additionally the respective TSO has been added to each post code. *(A Link to the SQL script will follow here later)*\n",
    "\n",
    "*(License: http://www.suche-postleitzahl.org/downloads, Open Database Licence for free use. Source of data: © OpenStreetMap contributors)*"
   ]
  },
  {
   "cell_type": "code",
   "execution_count": 66,
   "metadata": {
    "collapsed": false
   },
   "outputs": [
    {
     "data": {
      "text/html": [
       "<div>\n",
       "<table border=\"1\" class=\"dataframe\">\n",
       "  <thead>\n",
       "    <tr style=\"text-align: right;\">\n",
       "      <th></th>\n",
       "      <th>postcode</th>\n",
       "      <th>city</th>\n",
       "      <th>tso</th>\n",
       "      <th>lon</th>\n",
       "      <th>lat</th>\n",
       "      <th>source</th>\n",
       "    </tr>\n",
       "  </thead>\n",
       "  <tbody>\n",
       "    <tr>\n",
       "      <th>0</th>\n",
       "      <td>25867</td>\n",
       "      <td>NaN</td>\n",
       "      <td>NaN</td>\n",
       "      <td>8.704555</td>\n",
       "      <td>54.679520</td>\n",
       "      <td>NaN</td>\n",
       "    </tr>\n",
       "    <tr>\n",
       "      <th>2</th>\n",
       "      <td>78266</td>\n",
       "      <td>NaN</td>\n",
       "      <td>NaN</td>\n",
       "      <td>8.689388</td>\n",
       "      <td>47.700224</td>\n",
       "      <td>NaN</td>\n",
       "    </tr>\n",
       "    <tr>\n",
       "      <th>3</th>\n",
       "      <td>30669</td>\n",
       "      <td>NaN</td>\n",
       "      <td>NaN</td>\n",
       "      <td>9.686630</td>\n",
       "      <td>52.463744</td>\n",
       "      <td>NaN</td>\n",
       "    </tr>\n",
       "    <tr>\n",
       "      <th>4</th>\n",
       "      <td>25869</td>\n",
       "      <td>NaN</td>\n",
       "      <td>NaN</td>\n",
       "      <td>8.766436</td>\n",
       "      <td>54.636884</td>\n",
       "      <td>NaN</td>\n",
       "    </tr>\n",
       "    <tr>\n",
       "      <th>5</th>\n",
       "      <td>60306</td>\n",
       "      <td>NaN</td>\n",
       "      <td>NaN</td>\n",
       "      <td>8.670177</td>\n",
       "      <td>50.116067</td>\n",
       "      <td>NaN</td>\n",
       "    </tr>\n",
       "  </tbody>\n",
       "</table>\n",
       "</div>"
      ],
      "text/plain": [
       "  postcode city  tso       lon        lat source\n",
       "0    25867  NaN  NaN  8.704555  54.679520    NaN\n",
       "2    78266  NaN  NaN  8.689388  47.700224    NaN\n",
       "3    30669  NaN  NaN  9.686630  52.463744    NaN\n",
       "4    25869  NaN  NaN  8.766436  54.636884    NaN\n",
       "5    60306  NaN  NaN  8.670177  50.116067    NaN"
      ]
     },
     "execution_count": 66,
     "metadata": {},
     "output_type": "execute_result"
    }
   ],
   "source": [
    "# Read generated postcode/location file\n",
    "postcode = pd.read_csv('input/de_tso_postcode_gps.csv',\n",
    "                       sep=';',\n",
    "                       header=0)\n",
    "\n",
    "# Drop possible duplicates in postcodes\n",
    "postcode.drop_duplicates('postcode', keep='last',inplace=True)\n",
    "\n",
    "# Show first entries\n",
    "postcode.head()"
   ]
  },
  {
   "cell_type": "markdown",
   "metadata": {
    "collapsed": false
   },
   "source": [
    "** Merge geometry information by using the postcode**"
   ]
  },
  {
   "cell_type": "code",
   "execution_count": 67,
   "metadata": {
    "collapsed": false
   },
   "outputs": [],
   "source": [
    "# Take postcode and longitude/latitude informations\n",
    "postcode = postcode[[0,3,4]]\n",
    "\n",
    "DE_renewables = DE_renewables.merge(postcode, on=['postcode'],  how='left')"
   ]
  },
  {
   "cell_type": "markdown",
   "metadata": {},
   "source": [
    "#### Transform geoinformation\n",
    "*(for data with already existing geoinformation)*\n",
    "\n",
    "In this section the existing geoinformation (in UTM-format) will be transformed into latidude and longitude coordiates as a uniform standard for geoinformation. \n",
    "\n",
    "The BNetzA data set offers UTM Geoinformation with the columns *utm_zone (UTM-Zonenwert)*, *utm_east* and *utm_north*. Most of utm_east-values include the utm_zone-value **32** at the beginning of the number. In order to properly standardize and transform this geoinformation into latitude and longitude it is necessary to remove this utm_zone value. For all UTM entries the utm_zone 32 is used by the BNetzA.\n",
    "\n",
    "\n",
    "|utm_zone|\t utm_east|\t utm_north| comment|\n",
    "|---|---|---| ----|\n",
    "|32|\t413151.72|\t6027467.73| proper coordinates|\n",
    "|32|\t**32**912159.6008|\t5692423.9664| caused error by 32|\n"
   ]
  },
  {
   "cell_type": "markdown",
   "metadata": {},
   "source": [
    "**How many different utm_zone values are in the data set?**"
   ]
  },
  {
   "cell_type": "code",
   "execution_count": 68,
   "metadata": {
    "collapsed": false
   },
   "outputs": [
    {
     "data": {
      "text/plain": [
       "utm_zone\n",
       "32.0    8815\n",
       "Name: utm_zone, dtype: int64"
      ]
     },
     "execution_count": 68,
     "metadata": {},
     "output_type": "execute_result"
    }
   ],
   "source": [
    "DE_renewables.groupby(['utm_zone'])['utm_zone'].count()"
   ]
  },
  {
   "cell_type": "markdown",
   "metadata": {},
   "source": [
    "**Remove the utm_zone \"32\" from the utm_east value**"
   ]
  },
  {
   "cell_type": "code",
   "execution_count": 69,
   "metadata": {
    "collapsed": false
   },
   "outputs": [],
   "source": [
    "# Find entries with 32 value at the beginning\n",
    "ix_32 = (DE_renewables['utm_east'].astype(str).str[:2] == '32')\n",
    "ix_notnull = DE_renewables['utm_east'].notnull()\n",
    "\n",
    "# Remove 32 from utm_east entries\n",
    "DE_renewables.loc[ix_32,'utm_east'] = DE_renewables.loc[ix_32,'utm_east'].astype(str).str[2:].astype(float)"
   ]
  },
  {
   "cell_type": "markdown",
   "metadata": {},
   "source": [
    "**Conversion UTM to lat/lon**"
   ]
  },
  {
   "cell_type": "code",
   "execution_count": 70,
   "metadata": {
    "collapsed": false
   },
   "outputs": [],
   "source": [
    "# Convert from UTM values to latitude and longitude coordinates\n",
    "try:\n",
    "    DE_renewables['lonlat'] = DE_renewables.loc[ix_notnull, ['utm_east', 'utm_north', 'utm_zone']].apply(\n",
    "        lambda x: utm.to_latlon(x[0], x[1], x[2], 'U'),\n",
    "        axis=1) \\\n",
    "        .astype(str)\n",
    "    \n",
    "except:\n",
    "    DE_renewables['lonlat'] = np.NaN\n",
    "    \n",
    "lat = []\n",
    "lon = []\n",
    "\n",
    "for row in DE_renewables['lonlat']:\n",
    "    try:\n",
    "        # Split tuple format into the column lat and lon  \n",
    "        row = row.lstrip('(').rstrip(')')\n",
    "        lat.append(row.split(',')[0])\n",
    "        lon.append(row.split(',')[1])\n",
    "    except:\n",
    "        # set NaN \n",
    "        lat.append(np.NaN)\n",
    "        lon.append(np.NaN)\n",
    "          \n",
    "\n",
    "DE_renewables['latitude'] = pd.to_numeric(lat)\n",
    "DE_renewables['longitude'] = pd.to_numeric(lon) \n",
    "\n",
    "# Add new values to DataFrame lon and lat\n",
    "DE_renewables['lat'] = DE_renewables[['lat', 'latitude']].apply(\n",
    "    lambda x: x[1] if pd.isnull(x[0]) else x[0],\n",
    "    axis=1)\n",
    "\n",
    "DE_renewables['lon'] = DE_renewables[['lon', 'longitude']].apply(\n",
    "    lambda x: x[1] if pd.isnull(x[0]) else x[0],\n",
    "    axis=1)"
   ]
  },
  {
   "cell_type": "markdown",
   "metadata": {},
   "source": [
    "**Check: missing coordinates by data source and type**"
   ]
  },
  {
   "cell_type": "code",
   "execution_count": 71,
   "metadata": {
    "collapsed": false
   },
   "outputs": [
    {
     "name": "stdout",
     "output_type": "stream",
     "text": [
      "Missing Coordinates  719\n"
     ]
    },
    {
     "data": {
      "text/plain": [
       "energy_source  data_source\n",
       "Hydro          Amprion          1\n",
       "Solar          50Hertz          6\n",
       "               BNetzA_PV        8\n",
       "Wind           50Hertz         12\n",
       "               BNetzA           4\n",
       "               TenneT         688\n",
       "Name: data_source, dtype: int64"
      ]
     },
     "execution_count": 71,
     "metadata": {},
     "output_type": "execute_result"
    }
   ],
   "source": [
    "print('Missing Coordinates ', DE_renewables.lat.isnull().sum())\n",
    "\n",
    "DE_renewables[DE_renewables.lat.isnull()].groupby(['energy_source',\n",
    "                                             'data_source']\n",
    "                                            )['data_source'].count()"
   ]
  },
  {
   "cell_type": "markdown",
   "metadata": {},
   "source": [
    "**Remove temporary columns**"
   ]
  },
  {
   "cell_type": "code",
   "execution_count": 72,
   "metadata": {
    "collapsed": true
   },
   "outputs": [],
   "source": [
    "# drop lonlat column that contains both, latitute and longitude\n",
    "DE_renewables.drop(['lonlat','longitude','latitude'], axis=1, inplace=True)"
   ]
  },
  {
   "cell_type": "markdown",
   "metadata": {},
   "source": [
    "### 3.1.7 Save\n",
    " \n",
    "The merged, translated, cleaned, DataFrame will be saved temporily as a pickle file, which stores a Python object fast."
   ]
  },
  {
   "cell_type": "code",
   "execution_count": 73,
   "metadata": {
    "collapsed": false
   },
   "outputs": [],
   "source": [
    "DE_renewables.to_pickle('DE_renewables.pickle')"
   ]
  },
  {
   "cell_type": "markdown",
   "metadata": {},
   "source": [
    "## 3.2 Denmark DK"
   ]
  },
  {
   "cell_type": "markdown",
   "metadata": {},
   "source": [
    "### 3.2.1 Download and read\n",
    "The data which will be processed below is provided by the following data sources:\n",
    "\n",
    "** [Energistyrelsen (ens) / Danish Energy Agency](http://www.ens.dk/info/tal-kort/statistik-noegletal/oversigt-energisektoren/stamdataregister-vindmoller)** - The wind turbines register is released by the Danish Energy Agency. \n",
    "\n",
    "** [Energinet.dk](http://www.energinet.dk/DA/El/Engrosmarked/Udtraek-af-markedsdata/Sider/Statistik.aspx)** - The data of solar power plants are released by the leading transmission network operator Denmark."
   ]
  },
  {
   "cell_type": "code",
   "execution_count": 74,
   "metadata": {
    "collapsed": false
   },
   "outputs": [],
   "source": [
    "# point URLs to original data depending on the chosen download option\n",
    "if download_from == 'original_sources':\n",
    "    \n",
    "    url_DK_ens = 'http://www.ens.dk/sites/ens.dk/files/info/tal-kort/statistik-noegletal/oversigt-energisektoren/stamdataregister-vindmoeller/anlaegprodtilnettet.xls'\n",
    "    url_DK_energinet = 'http://www.energinet.dk/SiteCollectionDocuments/Danske%20dokumenter/El/SolcelleGraf.xlsx'\n",
    "    url_DK_geo = 'http://download.geonames.org/export/zip/DK.zip'\n",
    "\n",
    "else:\n",
    "    url_DK_ens = 'http://www.ens.dk/sites/ens.dk/files/info/tal-kort/statistik-noegletal/oversigt-energisektoren/stamdataregister-vindmoeller/anlaegprodtilnettet.xls'\n",
    "    url_DK_energinet = 'http://www.energinet.dk/SiteCollectionDocuments/Danske%20dokumenter/El/SolcelleGraf.xlsx'\n",
    "    url_DK_geo = 'http://download.geonames.org/export/zip/DK.zip'\n",
    "#     url_DK_ens = (url_opsd + version + folder + '/DK/anlaegprodtilnettet.xls')\n",
    "#     url_DK_energinet = (url_opsd + version + folder + '/DK/SolcelleGraf.xlsx')\n",
    "#     url_DK_geo = (url_opsd + version + folder + 'DK/DK.zip')"
   ]
  },
  {
   "cell_type": "code",
   "execution_count": 75,
   "metadata": {
    "collapsed": false
   },
   "outputs": [
    {
     "name": "stdout",
     "output_type": "stream",
     "text": [
      "http://www.ens.dk/sites/ens.dk/files/info/tal-kort/statistik-noegletal/oversigt-energisektoren/stamdataregister-vindmoeller/anlaegprodtilnettet.xls\n",
      "input/original_data/anlaegprodtilnettet.xls\n",
      "Using local file from input/original_data/anlaegprodtilnettet.xls\n",
      "http://www.energinet.dk/SiteCollectionDocuments/Danske%20dokumenter/El/SolcelleGraf.xlsx\n",
      "input/original_data/SolcelleGraf.xlsx\n",
      "Using local file from input/original_data/SolcelleGraf.xlsx\n"
     ]
    }
   ],
   "source": [
    "# Get wind turbines data \n",
    "DK_wind_df = pd.read_excel(download_and_cache(url_DK_ens),\n",
    "                           sheetname='IkkeAfmeldte-Existing turbines',\n",
    "                           thousands='.', \n",
    "                           header=17,\n",
    "                           skipfooter=3,\n",
    "                           parse_cols=16,\n",
    "                           converters={'Møllenummer (GSRN)': str,\n",
    "                                       'Kommune-nr': str,\n",
    "                                       'Postnr': str}\n",
    "                          )\n",
    "                         \n",
    "# Get photovoltaic data\n",
    "DK_solar_df = pd.read_excel(download_and_cache(url_DK_energinet),\n",
    "                            sheetname='Data',\n",
    "                            converters={'Postnr': str}\n",
    "                           )"
   ]
  },
  {
   "cell_type": "code",
   "execution_count": 76,
   "metadata": {
    "collapsed": false
   },
   "outputs": [
    {
     "data": {
      "text/html": [
       "<div>\n",
       "<table border=\"1\" class=\"dataframe\">\n",
       "  <thead>\n",
       "    <tr style=\"text-align: right;\">\n",
       "      <th></th>\n",
       "      <th>Møllenummer (GSRN)</th>\n",
       "      <th>Dato for oprindelig nettilslutning</th>\n",
       "      <th>Kapacitet (kW)</th>\n",
       "      <th>Rotor-diameter (m)</th>\n",
       "      <th>Navhøjde (m)</th>\n",
       "      <th>Fabrikat</th>\n",
       "      <th>Model</th>\n",
       "      <th>Kommune-nr.</th>\n",
       "      <th>Kommune</th>\n",
       "      <th>Type af placering</th>\n",
       "      <th>Ejerlav</th>\n",
       "      <th>Matrikel-nummer</th>\n",
       "      <th>X (øst) koordinat \n",
       "UTM 32 Euref89</th>\n",
       "      <th>Y (nord) koordinat \n",
       "UTM 32 Euref89</th>\n",
       "      <th>Koordinatoprindelse</th>\n",
       "      <th>Unnamed: 15</th>\n",
       "      <th>Unnamed: 16</th>\n",
       "    </tr>\n",
       "  </thead>\n",
       "  <tbody>\n",
       "    <tr>\n",
       "      <th>0</th>\n",
       "      <td>570714700000010750</td>\n",
       "      <td>1997-07-03</td>\n",
       "      <td>300.0</td>\n",
       "      <td>31.0</td>\n",
       "      <td>30.5</td>\n",
       "      <td>Nordtank</td>\n",
       "      <td>NTK 300/31-Nordtank</td>\n",
       "      <td>269.0</td>\n",
       "      <td>Solrød</td>\n",
       "      <td>LAND</td>\n",
       "      <td>Solrød</td>\n",
       "      <td>9a</td>\n",
       "      <td>700290.38</td>\n",
       "      <td>6160086.86</td>\n",
       "      <td>GST</td>\n",
       "      <td>NaN</td>\n",
       "      <td>NaN</td>\n",
       "    </tr>\n",
       "    <tr>\n",
       "      <th>1</th>\n",
       "      <td>570714700000010767</td>\n",
       "      <td>1997-07-01</td>\n",
       "      <td>300.0</td>\n",
       "      <td>31.0</td>\n",
       "      <td>30.5</td>\n",
       "      <td>Nordtank</td>\n",
       "      <td>NTK 300/31-Nordtank</td>\n",
       "      <td>269.0</td>\n",
       "      <td>Solrød</td>\n",
       "      <td>LAND</td>\n",
       "      <td>Solrød</td>\n",
       "      <td>10b</td>\n",
       "      <td>700481.18</td>\n",
       "      <td>6160116.32</td>\n",
       "      <td>GST</td>\n",
       "      <td>NaN</td>\n",
       "      <td>NaN</td>\n",
       "    </tr>\n",
       "  </tbody>\n",
       "</table>\n",
       "</div>"
      ],
      "text/plain": [
       "   Møllenummer (GSRN) Dato for oprindelig nettilslutning  Kapacitet (kW)  \\\n",
       "0  570714700000010750                         1997-07-03           300.0   \n",
       "1  570714700000010767                         1997-07-01           300.0   \n",
       "\n",
       "   Rotor-diameter (m)  Navhøjde (m)  Fabrikat                Model  \\\n",
       "0                31.0          30.5  Nordtank  NTK 300/31-Nordtank   \n",
       "1                31.0          30.5  Nordtank  NTK 300/31-Nordtank   \n",
       "\n",
       "   Kommune-nr. Kommune Type af placering Ejerlav Matrikel-nummer  \\\n",
       "0        269.0  Solrød              LAND  Solrød              9a   \n",
       "1        269.0  Solrød              LAND  Solrød             10b   \n",
       "\n",
       "   X (øst) koordinat \\nUTM 32 Euref89  Y (nord) koordinat \\nUTM 32 Euref89  \\\n",
       "0                           700290.38                           6160086.86   \n",
       "1                           700481.18                           6160116.32   \n",
       "\n",
       "  Koordinatoprindelse  Unnamed: 15  Unnamed: 16  \n",
       "0                 GST          NaN          NaN  \n",
       "1                 GST          NaN          NaN  "
      ]
     },
     "execution_count": 76,
     "metadata": {},
     "output_type": "execute_result"
    }
   ],
   "source": [
    "DK_wind_df.head(2)"
   ]
  },
  {
   "cell_type": "code",
   "execution_count": 77,
   "metadata": {
    "collapsed": false
   },
   "outputs": [
    {
     "data": {
      "text/html": [
       "<div>\n",
       "<table border=\"1\" class=\"dataframe\">\n",
       "  <thead>\n",
       "    <tr style=\"text-align: right;\">\n",
       "      <th></th>\n",
       "      <th>Unnamed: 0</th>\n",
       "      <th>Værk Idrift</th>\n",
       "      <th>I drift</th>\n",
       "      <th>Antal</th>\n",
       "      <th>kW</th>\n",
       "      <th>Postnr</th>\n",
       "      <th>Netområde Navn</th>\n",
       "      <th>Samlet kW</th>\n",
       "    </tr>\n",
       "  </thead>\n",
       "  <tbody>\n",
       "    <tr>\n",
       "      <th>0</th>\n",
       "      <td>NaN</td>\n",
       "      <td>1970-01-01</td>\n",
       "      <td>2011-01-01</td>\n",
       "      <td>1</td>\n",
       "      <td>8.0</td>\n",
       "      <td>4174</td>\n",
       "      <td>740 SEAS-NVE Net A/S</td>\n",
       "      <td>8.0</td>\n",
       "    </tr>\n",
       "    <tr>\n",
       "      <th>1</th>\n",
       "      <td>NaN</td>\n",
       "      <td>1970-01-01</td>\n",
       "      <td>2011-01-01</td>\n",
       "      <td>2</td>\n",
       "      <td>10.0</td>\n",
       "      <td>4573</td>\n",
       "      <td>740 SEAS-NVE Net A/S</td>\n",
       "      <td>18.0</td>\n",
       "    </tr>\n",
       "  </tbody>\n",
       "</table>\n",
       "</div>"
      ],
      "text/plain": [
       "   Unnamed: 0 Værk Idrift    I drift  Antal    kW Postnr  \\\n",
       "0         NaN  1970-01-01 2011-01-01      1   8.0   4174   \n",
       "1         NaN  1970-01-01 2011-01-01      2  10.0   4573   \n",
       "\n",
       "         Netområde Navn  Samlet kW  \n",
       "0  740 SEAS-NVE Net A/S        8.0  \n",
       "1  740 SEAS-NVE Net A/S       18.0  "
      ]
     },
     "execution_count": 77,
     "metadata": {},
     "output_type": "execute_result"
    }
   ],
   "source": [
    "DK_solar_df.head(2)"
   ]
  },
  {
   "cell_type": "markdown",
   "metadata": {},
   "source": [
    "### 3.2.2 Translate column names"
   ]
  },
  {
   "cell_type": "code",
   "execution_count": 78,
   "metadata": {
    "collapsed": false
   },
   "outputs": [
    {
     "data": {
      "text/plain": [
       "{'Dato for oprindelig nettilslutning': 'commissioning_date',\n",
       " 'Ejerlav': 'address',\n",
       " 'Fabrikat': 'manufacturer',\n",
       " 'Kapacitet (kW)': 'electrical_capacity_kW',\n",
       " 'Kommune': 'municipality',\n",
       " 'Kommune-nr.': 'municipality_code',\n",
       " 'Matrikel-nummer': 'address_number',\n",
       " 'Model': 'model',\n",
       " 'Møllenummer (GSRN)': 'gsrn_id',\n",
       " 'Navhøjde (m)': 'hub_height',\n",
       " 'Netområde Navn': 'dso',\n",
       " 'Postnr': 'postcode',\n",
       " 'Rotor-diameter (m)': 'rotor_diameter',\n",
       " 'Type af placering': 'energy_source_subtype',\n",
       " 'Værk Idrift': 'commissioning_date',\n",
       " 'X (øst) koordinat \\nUTM 32 Euref89': 'utm_east',\n",
       " 'Y (nord) koordinat \\nUTM 32 Euref89': 'utm_north',\n",
       " 'kW': 'electrical_capacity_kW'}"
      ]
     },
     "execution_count": 78,
     "metadata": {},
     "output_type": "execute_result"
    }
   ],
   "source": [
    "# Choose the translation terms for Denmark, create dictionary and show dictionary\n",
    "idx_DK = columnnames[columnnames['country'] == 'DK'].index\n",
    "column_dict_DK = columnnames.loc[idx_DK].set_index('original_name')['opsd_name'].to_dict()\n",
    "column_dict_DK"
   ]
  },
  {
   "cell_type": "code",
   "execution_count": 79,
   "metadata": {
    "collapsed": false
   },
   "outputs": [],
   "source": [
    "# Translate columns by list \n",
    "DK_wind_df.rename(columns = column_dict_DK, inplace=True)\n",
    "DK_solar_df.rename(columns = column_dict_DK, inplace=True)"
   ]
  },
  {
   "cell_type": "markdown",
   "metadata": {},
   "source": [
    "### 3.2.3 Add data source and missing information"
   ]
  },
  {
   "cell_type": "code",
   "execution_count": 80,
   "metadata": {
    "collapsed": true
   },
   "outputs": [],
   "source": [
    "# Add names of the data sources to the DataFrames\n",
    "DK_wind_df['data_source'] = 'Energistyrelsen'\n",
    "DK_solar_df['data_source'] = 'Energinet.dk'\n",
    "\n",
    "# Add energy_source for each of the two DataFrames\n",
    "DK_wind_df['energy_source'] = 'Wind'\n",
    "DK_solar_df['energy_source'] = 'Solar'\n",
    "DK_solar_df['energy_source_subtype'] = 'Photovoltaics'"
   ]
  },
  {
   "cell_type": "markdown",
   "metadata": {},
   "source": [
    "### 3.2.4 Translate values and harmonize energy source"
   ]
  },
  {
   "cell_type": "code",
   "execution_count": 81,
   "metadata": {
    "collapsed": false
   },
   "outputs": [
    {
     "data": {
      "text/plain": [
       "{'HAV': 'Offshore', 'LAND': 'Onshore', 'Land': 'Onshore'}"
      ]
     },
     "execution_count": 81,
     "metadata": {},
     "output_type": "execute_result"
    }
   ],
   "source": [
    "idx_DK = valuenames[valuenames['country'] == 'DK'].index\n",
    "value_dict_DK = valuenames.loc[idx_DK].set_index('original_name')['opsd_name'].to_dict()\n",
    "value_dict_DK"
   ]
  },
  {
   "cell_type": "code",
   "execution_count": 82,
   "metadata": {
    "collapsed": true
   },
   "outputs": [],
   "source": [
    "DK_wind_df.replace(value_dict_DK, inplace=True)"
   ]
  },
  {
   "cell_type": "markdown",
   "metadata": {},
   "source": [
    "### 3.2.5 Georeferencing"
   ]
  },
  {
   "cell_type": "markdown",
   "metadata": {},
   "source": [
    "**UTM32 to lat/lon** *(Data from Energistyrelsen)*\n",
    "\n",
    "The Energistyrelsen data set offers UTM Geoinformation with the columns utm_east and utm_north belonging to the UTM zone 32. In this section the existing geoinformation (in UTM-format) will be transformed into latidude and longitude coordiates as a uniform standard for geoinformation."
   ]
  },
  {
   "cell_type": "code",
   "execution_count": 86,
   "metadata": {
    "collapsed": false
   },
   "outputs": [],
   "source": [
    "# Index for all values with utm information\n",
    "idx_notnull= DK_wind_df['utm_east'].notnull()\n"
   ]
  },
  {
   "cell_type": "code",
   "execution_count": 87,
   "metadata": {
    "collapsed": false
   },
   "outputs": [],
   "source": [
    "# Convert from UTM values to latitude and longitude coordinates\n",
    "DK_wind_df['lonlat'] = DK_wind_df.loc[idx_notnull,['utm_east','utm_north']\n",
    "                                           ].apply(lambda x: utm.to_latlon(x[0],\n",
    "                                           x[1],32,'U'), axis=1).astype(str)"
   ]
  },
  {
   "cell_type": "code",
   "execution_count": 88,
   "metadata": {
    "collapsed": false
   },
   "outputs": [],
   "source": [
    "# Split latitude and longitude in two columns\n",
    "lat = []\n",
    "lon = []\n",
    "\n",
    "for row in DK_wind_df['lonlat']:\n",
    "    try:\n",
    "        # Split tuple format\n",
    "        # into the column lat and lon  \n",
    "        row = row.lstrip('(').rstrip(')')\n",
    "        lat.append(row.split(',')[0])\n",
    "        lon.append(row.split(',')[1])\n",
    "    except:\n",
    "        # set NAN \n",
    "        lat.append(np.NaN)\n",
    "        lon.append(np.NaN)\n",
    "        \n",
    "DK_wind_df['lat'] = pd.to_numeric(lat)\n",
    "DK_wind_df['lon'] = pd.to_numeric(lon)\n",
    "\n",
    "# drop lonlat column that contains both, latitute and longitude\n",
    "DK_wind_df.drop('lonlat', axis=1, inplace=True)"
   ]
  },
  {
   "cell_type": "markdown",
   "metadata": {},
   "source": [
    "**Postcode to lat/lon (WGS84)**\n",
    "*(for data from Energinet.dk)*\n",
    "\n",
    "The available post code in the original data provides an approximation for the geocoordinates of the solar power plants.<br>\n",
    "The postcode will be assigned to latitude and longitude coordinates with the help of the postcode table.\n",
    "\n",
    "** [geonames.org](http://download.geonames.org/export/zip/?C=N;O=D)** The postcode  data from Denmark is provided by Geonames and licensed under a [Creative Commons Attribution 3.0 license](http://creativecommons.org/licenses/by/3.0/)."
   ]
  },
  {
   "cell_type": "code",
   "execution_count": 89,
   "metadata": {
    "collapsed": false
   },
   "outputs": [
    {
     "name": "stdout",
     "output_type": "stream",
     "text": [
      "http://download.geonames.org/export/zip/DK.zip\n",
      "input/original_data/DK.zip\n",
      "Using local file from input/original_data/DK.zip\n"
     ]
    }
   ],
   "source": [
    "# Get geo-information\n",
    "zip_DK_geo = zipfile.ZipFile(download_and_cache(url_DK_geo))\n",
    "\n",
    "# Read generated postcode/location file\n",
    "DK_geo = pd.read_csv(zip_DK_geo.open('DK.txt'), sep='\\t', header=-1)\n",
    "\n",
    "# add column names as defined in associated readme file\n",
    "DK_geo.columns =  ['country_code','postcode','place_name','admin_name1',\n",
    "                   'admin_code1','admin_name2','admin_code2','admin_name3',\n",
    "                   'admin_code3','lat','lon','accuracy']\n",
    "\n",
    "# Drop rows of possible duplicate postal_code\n",
    "DK_geo.drop_duplicates('postcode', keep='last',inplace=True)\n",
    "DK_geo['postcode'] = DK_geo['postcode'].astype(str)"
   ]
  },
  {
   "cell_type": "code",
   "execution_count": 90,
   "metadata": {
    "collapsed": false
   },
   "outputs": [],
   "source": [
    "# Add longitude/latitude infomation assigned by postcode (for Energinet.dk data)\n",
    "DK_solar_df = DK_solar_df.merge(DK_geo[['postcode','lon','lat']], \n",
    "                                on=['postcode'],\n",
    "                                how='left')"
   ]
  },
  {
   "cell_type": "code",
   "execution_count": 91,
   "metadata": {
    "collapsed": false
   },
   "outputs": [
    {
     "name": "stdout",
     "output_type": "stream",
     "text": [
      "Missing Coordinates DK_wind  1050\n",
      "Missing Coordinates DK_solar  1\n"
     ]
    }
   ],
   "source": [
    "print('Missing Coordinates DK_wind ',DK_wind_df.lat.isnull().sum())\n",
    "print('Missing Coordinates DK_solar ',DK_solar_df.lat.isnull().sum())"
   ]
  },
  {
   "cell_type": "markdown",
   "metadata": {},
   "source": [
    "### 3.2.6 Merge DataFrames and choose columns"
   ]
  },
  {
   "cell_type": "code",
   "execution_count": 92,
   "metadata": {
    "collapsed": true
   },
   "outputs": [],
   "source": [
    "dataframes = [DK_wind_df, DK_solar_df]\n",
    "DK_renewables = pd.concat(dataframes)\n",
    "DK_renewables = DK_renewables.reset_index()"
   ]
  },
  {
   "cell_type": "code",
   "execution_count": 93,
   "metadata": {
    "collapsed": true
   },
   "outputs": [],
   "source": [
    "# Only these columns will be kept for the renewable power plant list output\n",
    "column_interest = ['commissioning_date', 'energy_source','energy_source_subtype',\n",
    "                   'electrical_capacity_kW', 'dso','gsrn_id', 'postcode',\n",
    "                   'municipality_code','municipality','address', 'address_number',\n",
    "                   'utm_east', 'utm_north', 'lon','lat','hub_height',\n",
    "                   'rotor_diameter', 'manufacturer', 'model', 'data_source']"
   ]
  },
  {
   "cell_type": "code",
   "execution_count": 94,
   "metadata": {
    "collapsed": true
   },
   "outputs": [],
   "source": [
    "# Clean DataFrame from columns other than specified above\n",
    "DK_renewables = DK_renewables.loc[:, column_interest]\n",
    "DK_renewables.reset_index(drop=True, inplace=True)"
   ]
  },
  {
   "cell_type": "code",
   "execution_count": 95,
   "metadata": {
    "collapsed": false
   },
   "outputs": [
    {
     "data": {
      "text/html": [
       "<div>\n",
       "<table border=\"1\" class=\"dataframe\">\n",
       "  <thead>\n",
       "    <tr style=\"text-align: right;\">\n",
       "      <th></th>\n",
       "      <th>commissioning_date</th>\n",
       "      <th>energy_source</th>\n",
       "      <th>energy_source_subtype</th>\n",
       "      <th>electrical_capacity_kW</th>\n",
       "      <th>dso</th>\n",
       "      <th>gsrn_id</th>\n",
       "      <th>postcode</th>\n",
       "      <th>municipality_code</th>\n",
       "      <th>municipality</th>\n",
       "      <th>address</th>\n",
       "      <th>address_number</th>\n",
       "      <th>utm_east</th>\n",
       "      <th>utm_north</th>\n",
       "      <th>lon</th>\n",
       "      <th>lat</th>\n",
       "      <th>hub_height</th>\n",
       "      <th>rotor_diameter</th>\n",
       "      <th>manufacturer</th>\n",
       "      <th>model</th>\n",
       "      <th>data_source</th>\n",
       "    </tr>\n",
       "  </thead>\n",
       "  <tbody>\n",
       "    <tr>\n",
       "      <th>0</th>\n",
       "      <td>1997-07-03</td>\n",
       "      <td>Wind</td>\n",
       "      <td>Onshore</td>\n",
       "      <td>300.0</td>\n",
       "      <td>NaN</td>\n",
       "      <td>570714700000010750</td>\n",
       "      <td>NaN</td>\n",
       "      <td>269.0</td>\n",
       "      <td>Solrød</td>\n",
       "      <td>Solrød</td>\n",
       "      <td>9a</td>\n",
       "      <td>700290.38</td>\n",
       "      <td>6160086.86</td>\n",
       "      <td>12.174881</td>\n",
       "      <td>55.545611</td>\n",
       "      <td>30.5</td>\n",
       "      <td>31.0</td>\n",
       "      <td>Nordtank</td>\n",
       "      <td>NTK 300/31-Nordtank</td>\n",
       "      <td>Energistyrelsen</td>\n",
       "    </tr>\n",
       "    <tr>\n",
       "      <th>1</th>\n",
       "      <td>1997-07-01</td>\n",
       "      <td>Wind</td>\n",
       "      <td>Onshore</td>\n",
       "      <td>300.0</td>\n",
       "      <td>NaN</td>\n",
       "      <td>570714700000010767</td>\n",
       "      <td>NaN</td>\n",
       "      <td>269.0</td>\n",
       "      <td>Solrød</td>\n",
       "      <td>Solrød</td>\n",
       "      <td>10b</td>\n",
       "      <td>700481.18</td>\n",
       "      <td>6160116.32</td>\n",
       "      <td>12.177922</td>\n",
       "      <td>55.545796</td>\n",
       "      <td>30.5</td>\n",
       "      <td>31.0</td>\n",
       "      <td>Nordtank</td>\n",
       "      <td>NTK 300/31-Nordtank</td>\n",
       "      <td>Energistyrelsen</td>\n",
       "    </tr>\n",
       "  </tbody>\n",
       "</table>\n",
       "</div>"
      ],
      "text/plain": [
       "  commissioning_date energy_source energy_source_subtype  \\\n",
       "0         1997-07-03          Wind               Onshore   \n",
       "1         1997-07-01          Wind               Onshore   \n",
       "\n",
       "   electrical_capacity_kW  dso             gsrn_id postcode  \\\n",
       "0                   300.0  NaN  570714700000010750      NaN   \n",
       "1                   300.0  NaN  570714700000010767      NaN   \n",
       "\n",
       "   municipality_code municipality address address_number   utm_east  \\\n",
       "0              269.0       Solrød  Solrød             9a  700290.38   \n",
       "1              269.0       Solrød  Solrød            10b  700481.18   \n",
       "\n",
       "    utm_north        lon        lat  hub_height  rotor_diameter manufacturer  \\\n",
       "0  6160086.86  12.174881  55.545611        30.5            31.0     Nordtank   \n",
       "1  6160116.32  12.177922  55.545796        30.5            31.0     Nordtank   \n",
       "\n",
       "                 model      data_source  \n",
       "0  NTK 300/31-Nordtank  Energistyrelsen  \n",
       "1  NTK 300/31-Nordtank  Energistyrelsen  "
      ]
     },
     "execution_count": 95,
     "metadata": {},
     "output_type": "execute_result"
    }
   ],
   "source": [
    "DK_renewables.head(2)"
   ]
  },
  {
   "cell_type": "markdown",
   "metadata": {},
   "source": [
    "### 3.2.7 Save"
   ]
  },
  {
   "cell_type": "code",
   "execution_count": 96,
   "metadata": {
    "collapsed": true
   },
   "outputs": [],
   "source": [
    "DK_renewables.to_pickle('DK_renewables.pickle')"
   ]
  },
  {
   "cell_type": "markdown",
   "metadata": {},
   "source": [
    "## 3.3 France FR"
   ]
  },
  {
   "cell_type": "markdown",
   "metadata": {},
   "source": [
    "### 3.3.1 Download and read\n",
    "The data which will be processed below is provided by the following data source:\n",
    "\n",
    "** [Ministery of the Environment, Energy and the Sea](http://www.statistiques.developpement-durable.gouv.fr/energie-climat/r/energies-renouvelables.html?tx_ttnews%5Btt_news%5D=24638&cHash=d237bf9985fdca39d7d8c5dc84fb95f9)** - Number of installations and installed capacity of the different renewable source for every municipality in France. Service of observation and statistics, survey, date of last update: 15/12/2015. Data until 31/12/2014."
   ]
  },
  {
   "cell_type": "code",
   "execution_count": 97,
   "metadata": {
    "collapsed": true
   },
   "outputs": [],
   "source": [
    "# point URLs to original data depending on the chosen download option\n",
    "if download_from == 'original_sources':\n",
    "    \n",
    "    url_FR_gouv = \"http://www.statistiques.developpement-durable.gouv.fr/fileadmin/documents/Themes/Energies_et_climat/Les_differentes_energies/Energies_renouvelables/donnees_locales/2014/electricite-renouvelable-par-commune-2014.xls\"\n",
    "    url_FR_geo = 'http://public.opendatasoft.com/explore/dataset/code-postal-code-insee-2015/download/?format=csv&timezone=Europe/Berlin&use_labels_for_header=true'\n",
    "\n",
    "else:\n",
    "    url_FR_gouv = \"http://www.statistiques.developpement-durable.gouv.fr/fileadmin/documents/Themes/Energies_et_climat/Les_differentes_energies/Energies_renouvelables/donnees_locales/2014/electricite-renouvelable-par-commune-2014.xls\"\n",
    "    url_FR_geo = 'http://public.opendatasoft.com/explore/dataset/code-postal-code-insee-2015/download/?format=csv&timezone=Europe/Berlin&use_labels_for_header=true'\n",
    "#     url_FR_gouv = (url_opsd + version + folder + '/FR/electricite-renouvelable-par-commune-2014.xls')\n",
    "#     url_FR_geo = (url_opsd + version + folder + 'FR/code-postal-code-insee-2015.csv')"
   ]
  },
  {
   "cell_type": "code",
   "execution_count": 98,
   "metadata": {
    "collapsed": false
   },
   "outputs": [
    {
     "name": "stdout",
     "output_type": "stream",
     "text": [
      "http://www.statistiques.developpement-durable.gouv.fr/fileadmin/documents/Themes/Energies_et_climat/Les_differentes_energies/Energies_renouvelables/donnees_locales/2014/electricite-renouvelable-par-commune-2014.xls\n",
      "input/original_data/electricite-renouvelable-par-commune-2014.xls\n",
      "No session\n",
      "Downloading file:  electricite-renouvelable-par-commune-2014.xls\n"
     ]
    }
   ],
   "source": [
    "# Get data of renewables per municipality\n",
    "FR_re_df = pd.read_excel(download_and_cache(url_FR_gouv),\n",
    "                         sheetname='Commune', \n",
    "                         encoding = 'UTF8',  \n",
    "                         thousands='.',\n",
    "                         decimals=',',\n",
    "                         header=[2, 3],\n",
    "                         skipfooter=9,  # contains summarized values\n",
    "                         index_col=[0, 1], # required for MultiIndex\n",
    "                         converters={'Code officiel géographique':str})"
   ]
  },
  {
   "cell_type": "markdown",
   "metadata": {},
   "source": [
    "### 3.3.2 Rearrange columns and translate column names"
   ]
  },
  {
   "cell_type": "markdown",
   "metadata": {},
   "source": [
    "The French data source contains number of installations and sum of installed capacity per energy source per municipality. The structure is adapted to the power plant list of other countries. The list is limited to the plants which are covered by article 10 of february 2000 by an agreement to a purchase commitment."
   ]
  },
  {
   "cell_type": "code",
   "execution_count": 99,
   "metadata": {
    "collapsed": false
   },
   "outputs": [],
   "source": [
    "# Rearrange data \n",
    "FR_re_df.index.rename(['insee_com', 'municipality'], inplace=True)\n",
    "FR_re_df.columns.rename(['energy_source', None], inplace=True)\n",
    "FR_re_df = (FR_re_df\n",
    "            .stack(level='energy_source', dropna=False)\n",
    "            .reset_index(drop = False))"
   ]
  },
  {
   "cell_type": "code",
   "execution_count": 100,
   "metadata": {
    "collapsed": false
   },
   "outputs": [
    {
     "data": {
      "text/plain": [
       "{'Code officiel géographique': 'municipality_code',\n",
       " 'Communes': 'municipality',\n",
       " \"Nombre d'installations\": 'number_of_installations',\n",
       " 'Puissance installée (MW)': 'electrical_capacity_MW',\n",
       " 'insee_com': 'municipality_code'}"
      ]
     },
     "execution_count": 100,
     "metadata": {},
     "output_type": "execute_result"
    }
   ],
   "source": [
    "# Choose the translation terms for France, create dictionary and show dictionary\n",
    "idx_FR = columnnames[columnnames['country'] == 'FR'].index\n",
    "column_dict_FR = columnnames.loc[idx_FR].set_index('original_name')['opsd_name'].to_dict()\n",
    "column_dict_FR"
   ]
  },
  {
   "cell_type": "code",
   "execution_count": 101,
   "metadata": {
    "collapsed": false
   },
   "outputs": [],
   "source": [
    "# Translate columnnames\n",
    "FR_re_df.rename(columns = column_dict_FR, inplace=True)"
   ]
  },
  {
   "cell_type": "code",
   "execution_count": 102,
   "metadata": {
    "collapsed": false
   },
   "outputs": [
    {
     "data": {
      "text/html": [
       "<div>\n",
       "<table border=\"1\" class=\"dataframe\">\n",
       "  <thead>\n",
       "    <tr style=\"text-align: right;\">\n",
       "      <th></th>\n",
       "      <th>municipality_code</th>\n",
       "      <th>municipality</th>\n",
       "      <th>energy_source</th>\n",
       "      <th>number_of_installations</th>\n",
       "      <th>electrical_capacity_MW</th>\n",
       "    </tr>\n",
       "  </thead>\n",
       "  <tbody>\n",
       "    <tr>\n",
       "      <th>4</th>\n",
       "      <td>01001</td>\n",
       "      <td>L'Abergement-Clémenciat</td>\n",
       "      <td>Solaire photovoltaïque</td>\n",
       "      <td>9</td>\n",
       "      <td>0.02526</td>\n",
       "    </tr>\n",
       "    <tr>\n",
       "      <th>9</th>\n",
       "      <td>01004</td>\n",
       "      <td>Ambérieu-en-Bugey</td>\n",
       "      <td>Solaire photovoltaïque</td>\n",
       "      <td>67</td>\n",
       "      <td>0.27941</td>\n",
       "    </tr>\n",
       "    <tr>\n",
       "      <th>14</th>\n",
       "      <td>01005</td>\n",
       "      <td>Ambérieux-en-Dombes</td>\n",
       "      <td>Solaire photovoltaïque</td>\n",
       "      <td>4</td>\n",
       "      <td>0.01160</td>\n",
       "    </tr>\n",
       "    <tr>\n",
       "      <th>19</th>\n",
       "      <td>01006</td>\n",
       "      <td>Ambléon</td>\n",
       "      <td>Solaire photovoltaïque</td>\n",
       "      <td>s</td>\n",
       "      <td>0.00300</td>\n",
       "    </tr>\n",
       "    <tr>\n",
       "      <th>24</th>\n",
       "      <td>01007</td>\n",
       "      <td>Ambronay</td>\n",
       "      <td>Solaire photovoltaïque</td>\n",
       "      <td>31</td>\n",
       "      <td>0.08526</td>\n",
       "    </tr>\n",
       "  </tbody>\n",
       "</table>\n",
       "</div>"
      ],
      "text/plain": [
       "   municipality_code             municipality           energy_source  \\\n",
       "4              01001  L'Abergement-Clémenciat  Solaire photovoltaïque   \n",
       "9              01004        Ambérieu-en-Bugey  Solaire photovoltaïque   \n",
       "14             01005      Ambérieux-en-Dombes  Solaire photovoltaïque   \n",
       "19             01006                  Ambléon  Solaire photovoltaïque   \n",
       "24             01007                 Ambronay  Solaire photovoltaïque   \n",
       "\n",
       "   number_of_installations  electrical_capacity_MW  \n",
       "4                        9                 0.02526  \n",
       "9                       67                 0.27941  \n",
       "14                       4                 0.01160  \n",
       "19                       s                 0.00300  \n",
       "24                      31                 0.08526  "
      ]
     },
     "execution_count": 102,
     "metadata": {},
     "output_type": "execute_result"
    }
   ],
   "source": [
    "# Drop all rows that just contain NA\n",
    "FR_re_df = FR_re_df.dropna()\n",
    "FR_re_df.head()"
   ]
  },
  {
   "cell_type": "markdown",
   "metadata": {},
   "source": [
    "### 3.3.3 Add data source"
   ]
  },
  {
   "cell_type": "code",
   "execution_count": 103,
   "metadata": {
    "collapsed": true
   },
   "outputs": [],
   "source": [
    "FR_re_df['data_source'] = 'gouv.fr'"
   ]
  },
  {
   "cell_type": "code",
   "execution_count": 104,
   "metadata": {
    "collapsed": false
   },
   "outputs": [
    {
     "name": "stdout",
     "output_type": "stream",
     "text": [
      "<class 'pandas.core.frame.DataFrame'>\n",
      "Int64Index: 33890 entries, 4 to 158574\n",
      "Data columns (total 6 columns):\n",
      "municipality_code          33890 non-null object\n",
      "municipality               33890 non-null object\n",
      "energy_source              33890 non-null object\n",
      "number_of_installations    33890 non-null object\n",
      "electrical_capacity_MW     33890 non-null float64\n",
      "data_source                33890 non-null object\n",
      "dtypes: float64(1), object(5)\n",
      "memory usage: 1.8+ MB\n"
     ]
    }
   ],
   "source": [
    "FR_re_df.info()"
   ]
  },
  {
   "cell_type": "markdown",
   "metadata": {},
   "source": [
    "### 3.3.4 Translate values and harmonize energy source"
   ]
  },
  {
   "cell_type": "markdown",
   "metadata": {},
   "source": [
    "** Kept secret if number of installations < 3**\n",
    "\n",
    "If the number of installations is less than 3, it is marked with an _s_ instead of the number 1 or 2 due to statistical confidentiality ([further explanation by the data provider](http://www.statistiques.developpement-durable.gouv.fr/fileadmin/documents/Themes/Energies_et_climat/Les_differentes_energies/Energies_renouvelables/donnees_locales/2014/methodo-donnees-locales-electricte-renouvelable-12-2015-b.pdf)). Here, the _s_ is changed to _< 3_. This is done in the same step as the other value translations of the energy sources."
   ]
  },
  {
   "cell_type": "code",
   "execution_count": 105,
   "metadata": {
    "collapsed": false
   },
   "outputs": [
    {
     "data": {
      "text/plain": [
       "{'Biomasse': 'Biomass and biogas',\n",
       " 'Eolien': 'Wind',\n",
       " 'Géothermie': 'Geothermal',\n",
       " 'Hydraulique': 'Hydro',\n",
       " 'Solaire photovoltaïque': 'Photovoltaics',\n",
       " 's': '<3'}"
      ]
     },
     "execution_count": 105,
     "metadata": {},
     "output_type": "execute_result"
    }
   ],
   "source": [
    "idx_FR = valuenames[valuenames['country'] == 'FR'].index\n",
    "value_dict_FR = valuenames.loc[idx_FR].set_index('original_name')['opsd_name'].to_dict()\n",
    "value_dict_FR"
   ]
  },
  {
   "cell_type": "code",
   "execution_count": 106,
   "metadata": {
    "collapsed": false
   },
   "outputs": [],
   "source": [
    "FR_re_df.replace(value_dict_FR, inplace=True)"
   ]
  },
  {
   "cell_type": "code",
   "execution_count": 107,
   "metadata": {
    "collapsed": true
   },
   "outputs": [],
   "source": [
    "FR_re_df.reset_index(drop=True, inplace=True)"
   ]
  },
  {
   "cell_type": "markdown",
   "metadata": {},
   "source": [
    "### 3.3.5 Transform MW to kW"
   ]
  },
  {
   "cell_type": "code",
   "execution_count": 108,
   "metadata": {
    "collapsed": true
   },
   "outputs": [],
   "source": [
    "# MW to kW\n",
    "FR_re_df['electrical_capacity_MW'] *= 1000\n",
    "\n",
    "# adapt column name\n",
    "FR_re_df.rename(columns={'electrical_capacity_MW': 'electrical_capacity_kW'},\n",
    "                inplace=True)"
   ]
  },
  {
   "cell_type": "markdown",
   "metadata": {},
   "source": [
    "### 3.3.6 Georeferencing"
   ]
  },
  {
   "cell_type": "markdown",
   "metadata": {},
   "source": [
    "#### Municipality (INSEE) code to lon/lat\n",
    "The available INSEE code in the original data provides a first approximation for the geocoordinates of the renewable power plants. The following data source is utilized for assigning INSEE code to coordinates of the municipalities:\n",
    "\n",
    "** [OpenDataSoft](http://public.opendatasoft.com/explore/dataset/code-postal-code-insee-2015/information/)** publishes a list of French INSEE codes and corresponding coordinates is published under the [Licence Ouverte (Etalab)](https://www.etalab.gouv.fr/licence-ouverte-open-licence)."
   ]
  },
  {
   "cell_type": "code",
   "execution_count": 109,
   "metadata": {
    "collapsed": false
   },
   "outputs": [
    {
     "name": "stdout",
     "output_type": "stream",
     "text": [
      "Downloading file:  code_postal-insee-2015.csv\n"
     ]
    }
   ],
   "source": [
    "# Downlad French geo-information. As download_and_cache_function is not working\n",
    "# properly yet, thus other way of downloading\n",
    "filename = 'code_postal-insee-2015.csv'\n",
    "filepath = \"input/original_data/\" + filename\n",
    "if not os.path.exists(filepath):\n",
    "        print(\"Downloading file: \", filename)\n",
    "        FR_geo_csv = urllib.request.urlretrieve(url_FR_geo, filepath)\n",
    "else:\n",
    "        print(\"Using local file from\", filepath)"
   ]
  },
  {
   "cell_type": "code",
   "execution_count": 110,
   "metadata": {
    "collapsed": false
   },
   "outputs": [],
   "source": [
    "# Read INSEE Code Data\n",
    "FR_geo = pd.read_csv('input/original_data/code_postal-insee-2015.csv',\n",
    "                     sep=';',\n",
    "                     header=0,\n",
    "                     converters={'code_postal':str})"
   ]
  },
  {
   "cell_type": "code",
   "execution_count": 113,
   "metadata": {
    "collapsed": false
   },
   "outputs": [],
   "source": [
    "# create columns for latitude/longitude\n",
    "lat = []\n",
    "lon = []\n",
    "\n",
    "# split in latitude/longitude\n",
    "for row in FR_geo['Geo Point']:\n",
    "    try:\n",
    "        # Split tuple format\n",
    "        # into the column lat and lon  \n",
    "        row = row.lstrip('(').rstrip(')')\n",
    "        lat.append(row.split(',')[0])\n",
    "        lon.append(row.split(',')[1])\n",
    "    except:\n",
    "        # set NAN \n",
    "        lat.append(np.NaN)\n",
    "        lon.append(np.NaN)\n",
    "        \n",
    "# add these columns to the INSEE DataFrame\n",
    "FR_geo['lat'] = pd.to_numeric(lat)\n",
    "FR_geo['lon'] = pd.to_numeric(lon)"
   ]
  },
  {
   "cell_type": "code",
   "execution_count": 116,
   "metadata": {
    "collapsed": false
   },
   "outputs": [
    {
     "ename": "KeyError",
     "evalue": "\"['insee_com'] not in index\"",
     "output_type": "error",
     "traceback": [
      "\u001b[1;31m---------------------------------------------------------------------------\u001b[0m",
      "\u001b[1;31mKeyError\u001b[0m                                  Traceback (most recent call last)",
      "\u001b[1;32m<ipython-input-116-aace0555eff1>\u001b[0m in \u001b[0;36m<module>\u001b[1;34m()\u001b[0m\n\u001b[0;32m      3\u001b[0m \u001b[1;33m\u001b[0m\u001b[0m\n\u001b[0;32m      4\u001b[0m \u001b[1;31m# Merge longitude and latitude columns by the Code INSEE\u001b[0m\u001b[1;33m\u001b[0m\u001b[1;33m\u001b[0m\u001b[0m\n\u001b[1;32m----> 5\u001b[1;33m FR_re_df = FR_re_df.merge(FR_geo[['insee_com','lat','lon']],\n\u001b[0m\u001b[0;32m      6\u001b[0m                           \u001b[0mon\u001b[0m\u001b[1;33m=\u001b[0m\u001b[1;33m[\u001b[0m\u001b[1;34m'insee_com'\u001b[0m\u001b[1;33m]\u001b[0m\u001b[1;33m,\u001b[0m\u001b[1;33m\u001b[0m\u001b[0m\n\u001b[0;32m      7\u001b[0m                           how='left')\n",
      "\u001b[1;32mC:\\Users\\KRa\\Anaconda3\\lib\\site-packages\\pandas\\core\\frame.py\u001b[0m in \u001b[0;36m__getitem__\u001b[1;34m(self, key)\u001b[0m\n\u001b[0;32m   1989\u001b[0m         \u001b[1;32mif\u001b[0m \u001b[0misinstance\u001b[0m\u001b[1;33m(\u001b[0m\u001b[0mkey\u001b[0m\u001b[1;33m,\u001b[0m \u001b[1;33m(\u001b[0m\u001b[0mSeries\u001b[0m\u001b[1;33m,\u001b[0m \u001b[0mnp\u001b[0m\u001b[1;33m.\u001b[0m\u001b[0mndarray\u001b[0m\u001b[1;33m,\u001b[0m \u001b[0mIndex\u001b[0m\u001b[1;33m,\u001b[0m \u001b[0mlist\u001b[0m\u001b[1;33m)\u001b[0m\u001b[1;33m)\u001b[0m\u001b[1;33m:\u001b[0m\u001b[1;33m\u001b[0m\u001b[0m\n\u001b[0;32m   1990\u001b[0m             \u001b[1;31m# either boolean or fancy integer index\u001b[0m\u001b[1;33m\u001b[0m\u001b[1;33m\u001b[0m\u001b[0m\n\u001b[1;32m-> 1991\u001b[1;33m             \u001b[1;32mreturn\u001b[0m \u001b[0mself\u001b[0m\u001b[1;33m.\u001b[0m\u001b[0m_getitem_array\u001b[0m\u001b[1;33m(\u001b[0m\u001b[0mkey\u001b[0m\u001b[1;33m)\u001b[0m\u001b[1;33m\u001b[0m\u001b[0m\n\u001b[0m\u001b[0;32m   1992\u001b[0m         \u001b[1;32melif\u001b[0m \u001b[0misinstance\u001b[0m\u001b[1;33m(\u001b[0m\u001b[0mkey\u001b[0m\u001b[1;33m,\u001b[0m \u001b[0mDataFrame\u001b[0m\u001b[1;33m)\u001b[0m\u001b[1;33m:\u001b[0m\u001b[1;33m\u001b[0m\u001b[0m\n\u001b[0;32m   1993\u001b[0m             \u001b[1;32mreturn\u001b[0m \u001b[0mself\u001b[0m\u001b[1;33m.\u001b[0m\u001b[0m_getitem_frame\u001b[0m\u001b[1;33m(\u001b[0m\u001b[0mkey\u001b[0m\u001b[1;33m)\u001b[0m\u001b[1;33m\u001b[0m\u001b[0m\n",
      "\u001b[1;32mC:\\Users\\KRa\\Anaconda3\\lib\\site-packages\\pandas\\core\\frame.py\u001b[0m in \u001b[0;36m_getitem_array\u001b[1;34m(self, key)\u001b[0m\n\u001b[0;32m   2033\u001b[0m             \u001b[1;32mreturn\u001b[0m \u001b[0mself\u001b[0m\u001b[1;33m.\u001b[0m\u001b[0mtake\u001b[0m\u001b[1;33m(\u001b[0m\u001b[0mindexer\u001b[0m\u001b[1;33m,\u001b[0m \u001b[0maxis\u001b[0m\u001b[1;33m=\u001b[0m\u001b[1;36m0\u001b[0m\u001b[1;33m,\u001b[0m \u001b[0mconvert\u001b[0m\u001b[1;33m=\u001b[0m\u001b[1;32mFalse\u001b[0m\u001b[1;33m)\u001b[0m\u001b[1;33m\u001b[0m\u001b[0m\n\u001b[0;32m   2034\u001b[0m         \u001b[1;32melse\u001b[0m\u001b[1;33m:\u001b[0m\u001b[1;33m\u001b[0m\u001b[0m\n\u001b[1;32m-> 2035\u001b[1;33m             \u001b[0mindexer\u001b[0m \u001b[1;33m=\u001b[0m \u001b[0mself\u001b[0m\u001b[1;33m.\u001b[0m\u001b[0mix\u001b[0m\u001b[1;33m.\u001b[0m\u001b[0m_convert_to_indexer\u001b[0m\u001b[1;33m(\u001b[0m\u001b[0mkey\u001b[0m\u001b[1;33m,\u001b[0m \u001b[0maxis\u001b[0m\u001b[1;33m=\u001b[0m\u001b[1;36m1\u001b[0m\u001b[1;33m)\u001b[0m\u001b[1;33m\u001b[0m\u001b[0m\n\u001b[0m\u001b[0;32m   2036\u001b[0m             \u001b[1;32mreturn\u001b[0m \u001b[0mself\u001b[0m\u001b[1;33m.\u001b[0m\u001b[0mtake\u001b[0m\u001b[1;33m(\u001b[0m\u001b[0mindexer\u001b[0m\u001b[1;33m,\u001b[0m \u001b[0maxis\u001b[0m\u001b[1;33m=\u001b[0m\u001b[1;36m1\u001b[0m\u001b[1;33m,\u001b[0m \u001b[0mconvert\u001b[0m\u001b[1;33m=\u001b[0m\u001b[1;32mTrue\u001b[0m\u001b[1;33m)\u001b[0m\u001b[1;33m\u001b[0m\u001b[0m\n\u001b[0;32m   2037\u001b[0m \u001b[1;33m\u001b[0m\u001b[0m\n",
      "\u001b[1;32mC:\\Users\\KRa\\Anaconda3\\lib\\site-packages\\pandas\\core\\indexing.py\u001b[0m in \u001b[0;36m_convert_to_indexer\u001b[1;34m(self, obj, axis, is_setter)\u001b[0m\n\u001b[0;32m   1212\u001b[0m                 \u001b[0mmask\u001b[0m \u001b[1;33m=\u001b[0m \u001b[0mcheck\u001b[0m \u001b[1;33m==\u001b[0m \u001b[1;33m-\u001b[0m\u001b[1;36m1\u001b[0m\u001b[1;33m\u001b[0m\u001b[0m\n\u001b[0;32m   1213\u001b[0m                 \u001b[1;32mif\u001b[0m \u001b[0mmask\u001b[0m\u001b[1;33m.\u001b[0m\u001b[0many\u001b[0m\u001b[1;33m(\u001b[0m\u001b[1;33m)\u001b[0m\u001b[1;33m:\u001b[0m\u001b[1;33m\u001b[0m\u001b[0m\n\u001b[1;32m-> 1214\u001b[1;33m                     \u001b[1;32mraise\u001b[0m \u001b[0mKeyError\u001b[0m\u001b[1;33m(\u001b[0m\u001b[1;34m'%s not in index'\u001b[0m \u001b[1;33m%\u001b[0m \u001b[0mobjarr\u001b[0m\u001b[1;33m[\u001b[0m\u001b[0mmask\u001b[0m\u001b[1;33m]\u001b[0m\u001b[1;33m)\u001b[0m\u001b[1;33m\u001b[0m\u001b[0m\n\u001b[0m\u001b[0;32m   1215\u001b[0m \u001b[1;33m\u001b[0m\u001b[0m\n\u001b[0;32m   1216\u001b[0m                 \u001b[1;32mreturn\u001b[0m \u001b[0m_values_from_object\u001b[0m\u001b[1;33m(\u001b[0m\u001b[0mindexer\u001b[0m\u001b[1;33m)\u001b[0m\u001b[1;33m\u001b[0m\u001b[0m\n",
      "\u001b[1;31mKeyError\u001b[0m: \"['insee_com'] not in index\""
     ]
    }
   ],
   "source": [
    "# Column names of merge key have to be named identically\n",
    "FR_re_df.rename(columns={'municipality_code': 'insee_com'}, inplace=True)\n",
    "\n",
    "# Merge longitude and latitude columns by the Code INSEE\n",
    "FR_re_df = FR_re_df.merge(FR_geo[['insee_com','lat','lon']],\n",
    "                          on=['insee_com'],\n",
    "                          how='left')\n",
    "\n",
    "# Translate Code INSEE column back to municipality_code\n",
    "FR_re_df.rename(columns={'insee_com': 'municipality_code'}, inplace=True)"
   ]
  },
  {
   "cell_type": "code",
   "execution_count": null,
   "metadata": {
    "collapsed": false
   },
   "outputs": [],
   "source": [
    "FR_re_df.head(2)"
   ]
  },
  {
   "cell_type": "markdown",
   "metadata": {},
   "source": [
    "### 3.3.7 Save"
   ]
  },
  {
   "cell_type": "code",
   "execution_count": null,
   "metadata": {
    "collapsed": false
   },
   "outputs": [],
   "source": [
    "FR_re_df.to_pickle('FR_renewables.pickle')"
   ]
  },
  {
   "cell_type": "markdown",
   "metadata": {},
   "source": [
    "## 3.4 Poland PL"
   ]
  },
  {
   "cell_type": "markdown",
   "metadata": {},
   "source": [
    "### 3.4.1 Download and read\n",
    "The data which will be processed below is provided by the following data source:\n",
    "\n",
    "** [Urzad Regulacji Energetyki (URE) / Energy Regulatory Office](http://www.ure.gov.pl/uremapoze/mapa.html)** - Number of installations and installed capacity per energy source of renewable energy. Summed per powiat (districts) ."
   ]
  },
  {
   "cell_type": "markdown",
   "metadata": {},
   "source": [
    "#### The Polish data has to be downloaded manually \n",
    "if you have not chosen download_from = opsd_server.\n",
    "- Go to http://www.ure.gov.pl/uremapoze/mapa.html\n",
    "- Click on the British flag in the lower right corner for Englisch version\n",
    "- Set detail to highest (to the right) in the upper right corner\n",
    "- Click on the printer symbol in the lower left corner\n",
    "- 'Generate', then the rtf-file simple.rtf will be downloaded\n",
    "- Put it in the folder input/original_data on your computer"
   ]
  },
  {
   "cell_type": "code",
   "execution_count": null,
   "metadata": {
    "collapsed": false
   },
   "outputs": [],
   "source": [
    "if download_from == 'opsd_server':\n",
    "    url_PL_ure = (url_opsd + version + folder + '/PL/simple.rtf')\n",
    "    download_and_cache(url_PL_ure)"
   ]
  },
  {
   "cell_type": "code",
   "execution_count": null,
   "metadata": {
    "collapsed": true
   },
   "outputs": [],
   "source": [
    "# read rtf-file to string with the correct encoding\n",
    "with open('input/original_data/simple.rtf', 'r') as rtf:\n",
    "    file_content = rtf.read()\n",
    "\n",
    "file_content = file_content.encode('utf-8').decode('iso-8859-2')"
   ]
  },
  {
   "cell_type": "markdown",
   "metadata": {},
   "source": [
    "### 3.4.2 Rearrange data from rft-file"
   ]
  },
  {
   "cell_type": "markdown",
   "metadata": {},
   "source": [
    "The rtf file has one table for each district in the rtf-file which needs to be separated from each and other and restructured to get all plants in one DataFrame with the information: district, energy_source, number_of_installations, installed_capacity. Thus in the following, the separating items are defined, the district tables split in parts, all put in one list and afterwards transferred to a pandas DataFrame."
   ]
  },
  {
   "cell_type": "code",
   "execution_count": null,
   "metadata": {
    "collapsed": true
   },
   "outputs": [],
   "source": [
    "# a new line is separating all parts\n",
    "sep_split_into_parts = r'{\\fs12 \\f1 \\line }'\n",
    "# separates the table rows of each table\n",
    "sep_data_parts = r'\\trql'\n",
    "# needs more refactoring to extract the district name\n",
    "reg_exp_district = r'(?<=Powiat:).*(?=})'\n",
    "\n",
    "reg_exp_installation_type = (\n",
    "    r'(?<=\\\\fs12 \\\\f1 \\\\pard \\\\intbl \\\\ql \\\\cbpat[2|3|4] \\{\\\\fs12 \\\\f1  ).*(?=\\})')\n",
    "reg_exp_installation_value = (\n",
    "    r'(?<=\\\\fs12 \\\\f1 \\\\pard \\\\intbl \\\\qr \\\\cbpat3 \\{\\\\fs12 \\\\f1 ).*(?=})')\n",
    "\n",
    "# split file into parts\n",
    "parts = file_content.split(sep_split_into_parts)"
   ]
  },
  {
   "cell_type": "code",
   "execution_count": null,
   "metadata": {
    "collapsed": false
   },
   "outputs": [],
   "source": [
    "# list containing the data\n",
    "data_set = []\n",
    "for part in parts:\n",
    "    # match district\n",
    "    district = re.findall(reg_exp_district, part)\n",
    "    if len(district) == 0:\n",
    "        pass\n",
    "    else:\n",
    "        district = district[0]\n",
    "        # log.info('Processing: ' + district)\n",
    "        # separate each part\n",
    "        data_parts = part.split(sep_data_parts)\n",
    "        # data structure: data_row = {'district': '', 'install_type': '', 'quantity': '', 'power': ''}\n",
    "        for data_rows in data_parts:\n",
    "            wrapper_list = []\n",
    "            # match each installation type\n",
    "            installation_type = re.findall(reg_exp_installation_type, data_rows)\n",
    "            for inst_type in installation_type:\n",
    "                wrapper_list.append({'district': district, 'energy_source_subtype': inst_type})\n",
    "                #wrapper_list.append({'district': district, 'install_type': inst_type})\n",
    "            # match data - contains twice as many entries as installation type (quantity, power vs. install type)\n",
    "            data_values = re.findall(reg_exp_installation_value, data_rows)\n",
    "            if len(data_values) == 0:\n",
    "                #log.debug('data values empty')\n",
    "                pass\n",
    "            else:\n",
    "                # connect data\n",
    "                for i, _ in enumerate(wrapper_list):\n",
    "                    wrapper_list[i]['number_of_installations'] = data_values[(i * 2)]\n",
    "                    wrapper_list[i]['electrical_capacity_MW'] = data_values[(i * 2) + 1]\n",
    "\n",
    "                # prepare to write to file\n",
    "                for data in wrapper_list:\n",
    "                    data_set.append(data)"
   ]
  },
  {
   "cell_type": "code",
   "execution_count": null,
   "metadata": {
    "collapsed": true
   },
   "outputs": [],
   "source": [
    "# mapping of malformed unicode which appear in the Polish district names\n",
    "polish_truncated_unicode_map = {\n",
    "    r'\\uc0\\u322': 'ł',\n",
    "    r'\\uc0\\u380': 'ż',\n",
    "    r'\\uc0\\u243': 'ó',\n",
    "    r'\\uc0\\u347': 'ś',\n",
    "    r'\\uc0\\u324': 'ń',\n",
    "    r'\\uc0\\u261': 'ą',\n",
    "    r'\\uc0\\u281': 'ę',\n",
    "    r'\\uc0\\u263': 'ć',\n",
    "    r'\\uc0\\u321': 'Ł',\n",
    "    r'\\uc0\\u378': 'ź',\n",
    "    r'\\uc0\\u346': 'Ś',\n",
    "    r'\\uc0\\u379': 'Ż'\n",
    "}"
   ]
  },
  {
   "cell_type": "code",
   "execution_count": null,
   "metadata": {
    "collapsed": true
   },
   "outputs": [],
   "source": [
    "# changing malformed unicode\n",
    "for entry in data_set:\n",
    "    while r'\\u' in entry['district']:\n",
    "        index = entry['district'].index(r'\\u')\n",
    "        offset = index + 9\n",
    "        to_be_replaced = entry['district'][index:offset]\n",
    "        if to_be_replaced in polish_truncated_unicode_map.keys():\n",
    "            # offset + 1 because there is a trailing whitespace\n",
    "            entry['district'] = entry['district'].replace(entry['district'][index:offset + 1],\n",
    "                                                  polish_truncated_unicode_map[to_be_replaced])\n",
    "        else:\n",
    "            break"
   ]
  },
  {
   "cell_type": "code",
   "execution_count": null,
   "metadata": {
    "collapsed": true
   },
   "outputs": [],
   "source": [
    "# Create pandas DataFrame with similar structure as the other countries\n",
    "PL_re_df = pd.DataFrame(data_set)"
   ]
  },
  {
   "cell_type": "markdown",
   "metadata": {},
   "source": [
    "### 3.4.3 Add data source"
   ]
  },
  {
   "cell_type": "code",
   "execution_count": null,
   "metadata": {
    "collapsed": true
   },
   "outputs": [],
   "source": [
    "PL_re_df['data_source'] = 'Urzad Regulacji Energetyki'"
   ]
  },
  {
   "cell_type": "markdown",
   "metadata": {},
   "source": [
    "### 3.4.4 Translate values and harmonize energy source"
   ]
  },
  {
   "cell_type": "code",
   "execution_count": null,
   "metadata": {
    "collapsed": false
   },
   "outputs": [],
   "source": [
    "idx_PL = valuenames[valuenames['country'] == 'PL'].index\n",
    "value_dict_PL = valuenames.loc[idx_PL].set_index('original_name')['opsd_name'].to_dict()\n",
    "value_dict_PL"
   ]
  },
  {
   "cell_type": "code",
   "execution_count": null,
   "metadata": {
    "collapsed": false
   },
   "outputs": [],
   "source": [
    "PL_re_df.head(2)"
   ]
  },
  {
   "cell_type": "code",
   "execution_count": null,
   "metadata": {
    "collapsed": false
   },
   "outputs": [],
   "source": [
    "# Replace install_type descriptions with energy_source subtype\n",
    "PL_re_df.energy_source_subtype.replace(value_dict_PL, inplace=True)"
   ]
  },
  {
   "cell_type": "markdown",
   "metadata": {},
   "source": [
    "**Assign energy_source_subtype to energy_source**"
   ]
  },
  {
   "cell_type": "code",
   "execution_count": null,
   "metadata": {
    "collapsed": false
   },
   "outputs": [],
   "source": [
    "# Create dictionnary in order to assign energy_source to its subtype\n",
    "energy_source_dict_PL = valuenames.loc[idx_PL].set_index('opsd_name')['energy_source'].to_dict()\n",
    "\n",
    "# Create new column for energy_source\n",
    "PL_re_df['energy_source'] = PL_re_df.energy_source_subtype\n",
    "\n",
    "# Fill this with the energy source instead of subtype information\n",
    "PL_re_df.energy_source.replace(energy_source_dict_PL, inplace=True)"
   ]
  },
  {
   "cell_type": "code",
   "execution_count": null,
   "metadata": {
    "collapsed": false
   },
   "outputs": [],
   "source": [
    "energy_source_dict_PL"
   ]
  },
  {
   "cell_type": "markdown",
   "metadata": {},
   "source": [
    "** Adjust datatype of numeric columns**"
   ]
  },
  {
   "cell_type": "code",
   "execution_count": null,
   "metadata": {
    "collapsed": false
   },
   "outputs": [],
   "source": [
    "# change type to numeric\n",
    "PL_re_df['electrical_capacity_MW'] = pd.to_numeric(PL_re_df['electrical_capacity_MW'])\n",
    "# Additionally commas are deleted\n",
    "PL_re_df['number_of_installations'] = pd.to_numeric(\n",
    "    PL_re_df['number_of_installations'].str.replace(',',''))"
   ]
  },
  {
   "cell_type": "markdown",
   "metadata": {},
   "source": [
    "### 3.4.5 Transform MW to kW"
   ]
  },
  {
   "cell_type": "code",
   "execution_count": null,
   "metadata": {
    "collapsed": true
   },
   "outputs": [],
   "source": [
    "# MW to kW\n",
    "PL_re_df['electrical_capacity_MW'] *= 1000\n",
    "\n",
    "# adapt column name\n",
    "PL_re_df.rename(columns={'electrical_capacity_MW': 'electrical_capacity_kW'},\n",
    "                inplace=True)"
   ]
  },
  {
   "cell_type": "markdown",
   "metadata": {},
   "source": [
    "### 3.4.6 Georeferencing (missing)"
   ]
  },
  {
   "cell_type": "code",
   "execution_count": null,
   "metadata": {
    "collapsed": true
   },
   "outputs": [],
   "source": [
    "# ToDo: GeoReferencing\n",
    "# to get GEOINFO\n",
    "# NTS 4 - powiats and cities with powiat status (314 + 66 units)\n",
    "# http://stat.gov.pl/en/regional-statistics/nomenclature-nts-161/\n",
    "# http://forum.geonames.org/gforum/posts/list/795.page"
   ]
  },
  {
   "cell_type": "markdown",
   "metadata": {},
   "source": [
    "### 3.4.7 Save"
   ]
  },
  {
   "cell_type": "code",
   "execution_count": null,
   "metadata": {
    "collapsed": true
   },
   "outputs": [],
   "source": [
    "PL_re_df.to_pickle('PL_renewables.pickle')"
   ]
  },
  {
   "cell_type": "markdown",
   "metadata": {},
   "source": [
    "Check and validation of the renewable power plants list as well as the creation of CSV/XLSX/SQLite files can be found in Part 2 of this script. It also generates a daily time series of cumulated installed capacities by energy source."
   ]
  },
  {
   "cell_type": "code",
   "execution_count": null,
   "metadata": {
    "collapsed": true
   },
   "outputs": [],
   "source": []
  }
 ],
 "metadata": {
  "anaconda-cloud": {},
  "kernelspec": {
   "display_name": "Python [Root]",
   "language": "python",
   "name": "Python [Root]"
  },
  "language_info": {
   "codemirror_mode": {
    "name": "ipython",
    "version": 3
   },
   "file_extension": ".py",
   "mimetype": "text/x-python",
   "name": "python",
   "nbconvert_exporter": "python",
   "pygments_lexer": "ipython3",
   "version": "3.5.2"
  },
  "latex_envs": {
   "bibliofile": "biblio.bib",
   "cite_by": "apalike",
   "current_citInitial": 1,
   "eqLabelWithNumbers": true,
   "eqNumInitial": 0
  }
 },
 "nbformat": 4,
 "nbformat_minor": 0
}
